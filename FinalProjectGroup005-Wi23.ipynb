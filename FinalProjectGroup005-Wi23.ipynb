{
 "cells": [
  {
   "cell_type": "markdown",
   "metadata": {},
   "source": [
    "# COGS 118A - Final Project"
   ]
  },
  {
   "cell_type": "markdown",
   "metadata": {},
   "source": [
    "# Project Title: Fraudulent Transactions Detection\n",
    "## Group members\n",
    "\n",
    "- Xiaotong Zeng\n",
    "- Yandong Xiang\n",
    "- Xiang Li\n",
    "- Jiaxin Ye"
   ]
  },
  {
   "cell_type": "markdown",
   "metadata": {},
   "source": [
    "# Abstract \n",
    "\n",
    "The goal of this project is to predict whether a transaction is fraudulent given identity and transaction information. The dataset that we are using contains two files: identity and transaction, which are joined by the “TransactionID” variable. The identity dataset contains network connection information and digital signature associated with transactions, and the transaction dataset contains transaction amounts, card information, product of each transaction, and other related information. We will first perform data cleaning, data engineering, and PCA on the datasets. Then, we will use Naive Bayes as our baseline model, and we will compare it with the performances of RandomForest, LightGBM, and XGBoost to determine which model we will eventually use for this prediction task. In terms of evaluating the performance of our model, we will be using recall scores primarily since false negatives are more costly in fraud detection, so we do not want to predict a transaction as normal when it is actually fraudulent. But we will also take precision, accuracy, and F1 score into consideration for the balance of our model predictions."
   ]
  },
  {
   "cell_type": "markdown",
   "metadata": {},
   "source": [
    "# Background\n",
    "\n",
    "Nowadays, electronic payments have become an indispensable part of people’s everyday lives. It is an ongoing trend that digital wallets have replaced physical wallets. But as this trend evolves, many unscrupulous people see the opportunity of making illegal profits out of it, i.e. through transaction fraud. Online transaction fraud occurs when a fraudster attempts to conduct a transaction using another person’s identity and payment information<a name=\"Sasso\"></a>[<sup>[1]</sup>](#Sasso). According to the Federal Trade Commission (FTC), there was a total of 5.8 billion dollars of loss through fraud in 2021 for a 70 percent year-over-year increase<a name=\"Skiba\"></a>[<sup>[2]</sup>](#Skiba). In addition to ostensible monetary losses on the consumers’ sides, the fraud also induces negative impacts on customer/reputational, operational and topline revenue implications on the merchants’ sides<a name=\"McKee\"></a>[<sup>[3]</sup>](#McKee). If the merchants impose a restrictive fraud control policy, this can diminish the consumer experience. It is also time-consuming and labor-intensive for merchants to maintain anti-fraud technology. In terms of topline revenue, merchants may tend to avoid new revenue opportunities, such as entering a foreign market, due to concerns over fraud. Thus, it is of great importance to develop fraud detection algorithms to protect both consumers and merchants, and to provide a safe e-payment environment in general. In particular, machine learning techniques are widely used in fraud detection nowadays, and it is far more accurate than the traditional manual process. In the late 20th century, the companies spotted frauds through simple rules. For example, if a transaction exceeds 10,000 dollars, then there was a high risk of fraud. However, this was a static method since it could not keep up with the changing customer behavior promptly. That is, it was not effective in terms of adjusting to new fraud patterns. So, machine learning models are a better choice since it allows automation and self-adaptiveness. They learn which transactions are normal and which are anomalous<a name=\"Oakley\"></a>[<sup>[4]</sup>](#Oakley). However, a problem that we would encounter is the issue of imbalanced data. In the real world, most transactions are valid and only a small portion are fraud transactions<a name=\"Pykes\"></a>[<sup>[5]</sup>](#Pykes). Thus, we need to take this into account when we deal with our dataset."
   ]
  },
  {
   "cell_type": "markdown",
   "metadata": {},
   "source": [
    "# Problem Statement\n",
    "\n",
    "The problem is to predict whether a transaction is fraudulent using features such as card, address, email, device information, etc. Fraudulence is a big issue since it harms both customers and merchants, and the society in general. Historical methods of detecting fraud transactions were based on simple rules that may not be able to catch the complicated patterns in the data. The objective of this project is to predict if a transaction is fraudulent (label 1 means fraudulent, and label 0 means normal) through experimenting with different machine learning models and selecting the one with the highest recall score."
   ]
  },
  {
   "cell_type": "markdown",
   "metadata": {},
   "source": [
    "# Data\n",
    "\n",
    "### Meta Data\n",
    "\n",
    "identity.csv\n",
    "- https://www.kaggle.com/competitions/ieee-fraud-detection/data?select=train_identity.csv\n",
    "- (41 variables, 144233 observations)\n",
    "- Consists of: DeviceType, DeviceInfo, id_01 - id_38, TransactionID\n",
    "    - DeviceType: type of device used, such as mobile and desktop, etc\n",
    "    - DeviceInfo: The system used by the device\n",
    "    - Transaction ID: id for the transaction made\n",
    "    - id_01 - id_38: network connection and digital signature information\n",
    "- Critical variables: id_12 - id_38(float), Device type(‘string’),  Device Info(‘string’)\n",
    "- Convert device type to is mobile: if is mobile, True, else False\n",
    "- Onehot encode Device Info, Their are 1786 unique device software. Keep the software in the top 20 ocurrances of the dataset and set rest of them as “Others” [to 21 columns].\n",
    "\n",
    "\n",
    "transaction.csv\n",
    "- https://www.kaggle.com/competitions/ieee-fraud-detection/data?select=train_transaction.csv\n",
    "- (394 variables, 590540 observations)\n",
    "- Consists of: ProductCD, card1 - card6, addr1, addr2, P_emaildomain, R_emaildomain, M1-M9, C1-C14, D1-D15, V1 - V339, TransactionDT, TransactionAmt, dist1 - dist2\n",
    "    - isFraud: the label of dataset\n",
    "    - ProductCD: The code of the Product \n",
    "    - TransactionAmt: Transaction amount\n",
    "    - TransactionDT: Transaction datetime\n",
    "    - P_emaildomain: purchaser email domain\n",
    "    - R_emaildomain: recipient email domain\n",
    "    - card1 - card6: payment card information\n",
    "    - addr1: billing region\n",
    "    - addr2: billing country\n",
    "    - dist1 - dist2: distance between different address\n",
    "    - M1-M9: matches between info provided\n",
    "    - C1-C14: count of address associated with the card\n",
    "    - D1-D15: days between previous transactions\n",
    "    - V1 - V339: Vesta engineered rich features\n",
    "- Critical variables: card1 - card6(Int), addr1(float), addr2(float), M1-M9(boolean), C1-C14(float), D1-D15(float), V1 - V339(float), TransactionDT, TransactionAmt, dist1 - dist2, ProductCD(string), P_emaildomain(string), R_emaildomain(string), TransactionAmt(float)\n",
    "- Convert ProductCD to is W: if is W, True, else False.\n",
    "- Onehot encode P_emaildomain[to 59 columns] and R_emaildomain[to 60 columns].\n",
    "\n",
    "### Data Preprocessing\n",
    "Due to the abundance of transaction data as compared to identity data, we have chosen to utilize transaction data as the primary predictors in our analysis. To achieve this, we have performed a left join on the \"TransactionID\" column, merging the two dataframes. This merge retains all the records from the transaction dataframe and adds matched records from the identity dataframe. Consequently, our final dataset is a merged dataset containing 590540 rows and 434 columns. Because we have a total of 434 columns, it is difficult to check correlation between each column and the predicted label. Therefore, we used our intuition and domain knowledge to select a subset of features that we thought could be effective in predicting whether or not the transaction is fraudulent."
   ]
  },
  {
   "cell_type": "code",
   "execution_count": 1,
   "metadata": {},
   "outputs": [],
   "source": [
    "import pandas as pd\n",
    "import numpy as np\n",
    "import matplotlib.pyplot as plt\n",
    "import seaborn as sns; sns.set_theme()\n",
    "from sklearn.model_selection import KFold\n",
    "import warnings \n",
    "from sklearn.naive_bayes import BernoulliNB\n",
    "from sklearn.ensemble import RandomForestClassifier\n",
    "import lightgbm as lgb\n",
    "import xgboost as xgb\n",
    "from sklearn.decomposition import PCA\n",
    "from sklearn.preprocessing import OneHotEncoder\n",
    "from sklearn.metrics import precision_recall_fscore_support\n",
    "from sklearn.metrics import confusion_matrix, ConfusionMatrixDisplay\n",
    "from sklearn.metrics import accuracy_score\n",
    "from sklearn.model_selection import GridSearchCV, validation_curve\n",
    "warnings.filterwarnings('ignore')"
   ]
  },
  {
   "cell_type": "code",
   "execution_count": 2,
   "metadata": {},
   "outputs": [
    {
     "name": "stdout",
     "output_type": "stream",
     "text": [
      "(590540, 434)\n"
     ]
    }
   ],
   "source": [
    "train_transaction_path = \"data/train_transaction.csv\"\n",
    "train_identity_path = \"data/train_identity.csv\"\n",
    "train_transaction = pd.read_csv(train_transaction_path)\n",
    "train_identity = pd.read_csv(train_identity_path)\n",
    "train_df = pd.merge(train_identity, train_transaction, on=\"TransactionID\", how='right')\n",
    "print(train_df.shape)"
   ]
  },
  {
   "cell_type": "markdown",
   "metadata": {},
   "source": [
    "### Fixing the issue of unbalanced labels"
   ]
  },
  {
   "cell_type": "markdown",
   "metadata": {},
   "source": [
    "We observed significantly less fraud data in our dataset. In order to create a model that predicts both class accurately, we decide to balance the labels by downsampling, as oversampling would lead to overfitting."
   ]
  },
  {
   "cell_type": "code",
   "execution_count": 3,
   "metadata": {},
   "outputs": [
    {
     "name": "stdout",
     "output_type": "stream",
     "text": [
      "(41326, 434)\n"
     ]
    },
    {
     "data": {
      "text/plain": [
       "1    20663\n",
       "0    20663\n",
       "Name: isFraud, dtype: int64"
      ]
     },
     "execution_count": 3,
     "metadata": {},
     "output_type": "execute_result"
    }
   ],
   "source": [
    "train_is_fraud = train_df[train_df['isFraud']==1].sample(replace=False, n=len(train_df[train_df['isFraud']==1]))\n",
    "train_is_not_fraud = train_df[train_df['isFraud']==0].sample(replace=False, n=len(train_is_fraud))\n",
    "train_df = pd.concat([train_is_fraud, train_is_not_fraud])\n",
    "print(train_df.shape)\n",
    "train_df['isFraud'].value_counts()"
   ]
  },
  {
   "cell_type": "markdown",
   "metadata": {},
   "source": [
    "### Data Cleaning\n",
    "1. **Convert TransactionDT into Transaction Day and Transaction Hour**\n",
    "    - Justification: TransactionDT measures the time from a given reference datetime (not an actual timestamp), therefore, in order to better utilize the cycling attribute of time. We decide to convert TransactionDT to specific day and hours. In our EDAs, we also tried to convert TransactionDT into week and month. However, we did not have any particular patterns that differentiates the weeks or months. Therefore, we will only keep day and hour in our final table."
   ]
  },
  {
   "cell_type": "code",
   "execution_count": 4,
   "metadata": {},
   "outputs": [
    {
     "data": {
      "image/png": "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\n",
      "text/plain": [
       "<Figure size 720x432 with 2 Axes>"
      ]
     },
     "metadata": {},
     "output_type": "display_data"
    }
   ],
   "source": [
    "#Transform TransactionDT into Hour, Day of Week\n",
    "def convert_hour(x):\n",
    "    return (x // (1 * 60 * 60)) % 24\n",
    "\n",
    "def convert_day_of_week(x):\n",
    "    return (x // (24 * 60 * 60)) % 7\n",
    "\n",
    "train_df['TransactionDT'] = train_df['TransactionDT'] - min(train_df['TransactionDT'])\n",
    "train_df['TransactionHour'] = train_df['TransactionDT'].apply(convert_hour)\n",
    "train_df['TransactionDayOfWeek'] = train_df['TransactionDT'].apply(convert_day_of_week)\n",
    "\n",
    "fraud_hour_perc = pd.DataFrame(train_df.groupby(['isFraud', 'TransactionHour'])['isFraud'].count()).rename(columns={\"isFraud\": \"Fraud_Perc\"})\n",
    "fraud_hour_perc_df = fraud_hour_perc / fraud_hour_perc.groupby(level=0).sum()\n",
    "fraud_hour_perc_df = fraud_hour_perc_df.reset_index()\n",
    "fig, ax1 = plt.subplots(figsize=(10,6))\n",
    "ax1.set_title('Fraud Percentage By Hour', fontsize=14)\n",
    "ax1 = sns.barplot(x=\"TransactionHour\", y=\"Fraud_Perc\", hue=\"isFraud\", palette=\"pastel\", data=fraud_hour_perc_df)\n",
    "ax1.tick_params(axis='y')\n",
    "ax2 = ax1.twinx()\n",
    "ax2 = sns.lineplot(x='TransactionHour', y='Fraud_Perc', data = fraud_hour_perc_df, sort=False, hue=\"isFraud\")\n",
    "plt.show()"
   ]
  },
  {
   "cell_type": "code",
   "execution_count": 5,
   "metadata": {},
   "outputs": [
    {
     "data": {
      "image/png": "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\n",
      "text/plain": [
       "<Figure size 720x432 with 2 Axes>"
      ]
     },
     "metadata": {},
     "output_type": "display_data"
    }
   ],
   "source": [
    "fraud_dow_perc = pd.DataFrame(train_df.groupby(['isFraud', 'TransactionDayOfWeek'])['isFraud'].count()).rename(columns={\"isFraud\": \"Fraud_Perc\"})\n",
    "fraud_dow_perc_df = fraud_dow_perc / fraud_dow_perc.groupby(level=0).sum()\n",
    "fraud_dow_perc_df = fraud_dow_perc_df.reset_index()\n",
    "fig, ax1 = plt.subplots(figsize=(10,6))\n",
    "ax1.set_title('Fraud Percentage By Day of Week', fontsize=14)\n",
    "ax1 = sns.barplot(x=\"TransactionDayOfWeek\", y=\"Fraud_Perc\", hue=\"isFraud\", palette=\"pastel\", data=fraud_dow_perc_df)\n",
    "ax1.tick_params(axis='y')\n",
    "ax2 = ax1.twinx()\n",
    "ax2 = sns.lineplot(x='TransactionDayOfWeek', y='Fraud_Perc', data = fraud_dow_perc_df, sort=False, hue=\"isFraud\")\n",
    "plt.show()"
   ]
  },
  {
   "cell_type": "markdown",
   "metadata": {},
   "source": [
    "2. **Apply Log Transformation to Transaction Amount**\n",
    "    - In our EDA, we used a boxplot to plot the distribution of the transaction amount and found that the transaction amount is significantly skewed to the right which means that most of our transactions are below $200. In order to reduce the skewness of the data, we decide to apply a log transformation to the Transaction Amount to make the variable seem more normally distributed."
   ]
  },
  {
   "cell_type": "code",
   "execution_count": 6,
   "metadata": {},
   "outputs": [
    {
     "data": {
      "image/png": "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\n",
      "text/plain": [
       "<Figure size 360x216 with 1 Axes>"
      ]
     },
     "metadata": {},
     "output_type": "display_data"
    }
   ],
   "source": [
    "#Remove outliers\n",
    "fig, ax = plt.subplots(figsize=(5,3))\n",
    "transaction_amount = train_df[train_df['TransactionAmt'] < 1000]['TransactionAmt']\n",
    "ax = sns.boxplot(transaction_amount)"
   ]
  },
  {
   "cell_type": "code",
   "execution_count": 7,
   "metadata": {},
   "outputs": [
    {
     "data": {
      "image/png": "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\n",
      "text/plain": [
       "<Figure size 1800x432 with 2 Axes>"
      ]
     },
     "metadata": {},
     "output_type": "display_data"
    }
   ],
   "source": [
    "def convert_to_bin_amt(x):\n",
    "    if x < 50:\n",
    "        return '$0-50'\n",
    "    elif x < 100:\n",
    "        return '$50-100'\n",
    "    elif x < 200:\n",
    "        return '$100-200'\n",
    "    elif x < 300:\n",
    "        return '$200-300'\n",
    "    elif x < 400:\n",
    "        return '$300-400'\n",
    "    elif x < 500:\n",
    "        return '$400-500'\n",
    "    elif x < 600:\n",
    "        return '$500-600'\n",
    "    elif x < 700:\n",
    "        return '$600-700'\n",
    "    elif x < 800:\n",
    "        return '$700-800'\n",
    "    elif x < 900:\n",
    "        return '$800-900'\n",
    "    elif x < 1000:\n",
    "        return '$900-1000'\n",
    "    elif x < 1500:\n",
    "        return '$1000-1500'\n",
    "    elif x < 2000:\n",
    "        return '$1500-2000'\n",
    "    elif x < 2500:\n",
    "        return '$2000-2500'\n",
    "    elif x < 3000:\n",
    "        return '$2500-3000'\n",
    "    elif x < 3500:\n",
    "        return '$3000-3500'\n",
    "    elif x < 4000:\n",
    "        return '$3500-4000'\n",
    "    elif x < 4500:\n",
    "        return '$4000-4500'\n",
    "    elif x < 5000:\n",
    "        return '$4500-5000'\n",
    "    elif x < 5500:\n",
    "        return '$5000-5500'\n",
    "    elif x < 6000:\n",
    "        return '$5500-6000'\n",
    "    elif x < 6500:\n",
    "        return '$6000-6500'\n",
    "    elif x < 7000:\n",
    "        return '$6500-7000'\n",
    "    elif x < 7500:\n",
    "        return '$7000-7500'\n",
    "    elif x < 8000:\n",
    "        return '$7500-8000'\n",
    "    elif x < 8500:\n",
    "        return '$8000-8500'\n",
    "    elif x < 9000:\n",
    "        return '$8500-9000'\n",
    "    elif x < 9500:\n",
    "        return '$9000-9500'\n",
    "    elif x < 10000:\n",
    "        return '$9500-10000'\n",
    "    else:\n",
    "        return '$10000-+'\n",
    "    \n",
    "train_df['TransactionAmt_bin2'] = train_df['TransactionAmt'].apply(convert_to_bin_amt)\n",
    "fraud_amount = pd.DataFrame(train_df.groupby(['isFraud', 'TransactionAmt_bin2'])['isFraud'].count()).rename(columns={\"isFraud\": \"Fraud_Perc\"})\n",
    "fraud_amount_df = fraud_amount / fraud_amount.groupby(level=0).sum()\n",
    "fraud_amount_df = fraud_amount_df.reset_index()\n",
    "fraud_amount_df['index_2'] = fraud_amount_df['TransactionAmt_bin2'].apply(lambda x: float(x.split('-')[0][1:]))\n",
    "fraud_amount_df = fraud_amount_df.sort_values(by=['index_2'], ascending=True)\n",
    "fig, ax1 = plt.subplots(figsize=(25,6))\n",
    "ax1.set_title('Fraud Percentage By Transaction Amount', fontsize=14)\n",
    "ax1 = sns.barplot(x=\"TransactionAmt_bin2\", y=\"Fraud_Perc\", hue=\"isFraud\", palette=\"pastel\", data=fraud_amount_df)\n",
    "ax1.tick_params(axis='y')\n",
    "ax2 = ax1.twinx()\n",
    "ax2 = sns.lineplot(x='TransactionAmt_bin2', y='Fraud_Perc', data=fraud_amount_df, sort=True, hue=\"isFraud\")\n",
    "plt.show()"
   ]
  },
  {
   "cell_type": "markdown",
   "metadata": {},
   "source": [
    "3. **One-hot encode the Addresses, Email Domains, and Device Infos, IDs Infos into popular values and others**\n",
    "    - During our exploratory analysis, we realized that certain addresses, email domains, and device infos are more likely to be associated with fraudulent transactions. Originally, we plan to one hot encode all the values in these columns. However, there are too many unique values in these columns and some of them do not have an siginificant influence on predicting whether or not the transaction is fraudulent. Therefore, in order to simplify our one-hot features but also capturing all the relevant values, we decide to keep the labels for the most common values (top 100 values) and transform the rest of the less frequent values into another category called \"Others\". "
   ]
  },
  {
   "cell_type": "code",
   "execution_count": 8,
   "metadata": {},
   "outputs": [],
   "source": [
    "def addr1_transform(x):\n",
    "    if x in top_addr1:\n",
    "        return x\n",
    "    elif (pd.isnull(x) == True):\n",
    "        return 0\n",
    "    else:\n",
    "        return -1\n",
    "    \n",
    "def addr2_transform(x):\n",
    "    if x in top_addr2:\n",
    "        return x\n",
    "    elif (pd.isnull(x) == True):\n",
    "        return 0\n",
    "    else:\n",
    "        return -1\n",
    "    \n",
    "def email_p_transform(x):\n",
    "    if x in top_email_p:\n",
    "        return x\n",
    "    elif (pd.isnull(x) == True):\n",
    "        return 'Missing'\n",
    "    else:\n",
    "        return 'Other'\n",
    "    \n",
    "def email_r_transform(x):\n",
    "    if x in top_email_r:\n",
    "        return x\n",
    "    elif (pd.isnull(x) == True):\n",
    "        return 'Missing'\n",
    "    else:\n",
    "        return 'Other'\n",
    "    \n",
    "def device_info_transform(x):\n",
    "    if x in top_device_info:\n",
    "        return x\n",
    "    elif (pd.isnull(x) == True):\n",
    "        return 'Missing'\n",
    "    else:\n",
    "        return 'Other'\n",
    "    \n",
    "def transform_i(x):\n",
    "    if x in top_i:\n",
    "        return str(x)\n",
    "    elif (pd.isnull(x) == True):\n",
    "        return 'Missing'\n",
    "    else:\n",
    "        return 'Other'\n",
    "    \n",
    "# Convert transactionDT into day of week and hour\n",
    "train_df['TransactionDT'] = train_df['TransactionDT'] - min(train_df['TransactionDT'])\n",
    "train_df['TransactionDayOfWeek'] = train_df['TransactionDT'].apply(convert_day_of_week)\n",
    "train_df['TransactionHour'] = train_df['TransactionDT'].apply(convert_hour)\n",
    "\n",
    "# Transaction Amount (Log)\n",
    "train_df['TransactionAmt_log'] = train_df['TransactionAmt'].apply(lambda x: np.log(x))\n",
    "\n",
    "#addr1, addr2\n",
    "top_addr1 = list(train_df['addr1'].value_counts().index)[:100] #top ten regions\n",
    "top_addr2 = list(train_df['addr2'].value_counts().index)[:100] #top ten countries\n",
    "train_df['addr1_new'] = train_df['addr1'].apply(addr1_transform)\n",
    "train_df['addr2_new'] = train_df['addr2'].apply(addr2_transform)\n",
    "\n",
    "#Email_Domain\n",
    "top_email_p = list(train_df['P_emaildomain'].value_counts().index)[:100] \n",
    "top_email_r = list(train_df['R_emaildomain'].value_counts().index)[:100] \n",
    "train_df['P_emaildomain'].value_counts()\n",
    "train_df['P_emaildomain_new'] = train_df['P_emaildomain'].apply(email_p_transform)\n",
    "train_df['R_emaildomain_new'] = train_df['R_emaildomain'].apply(email_r_transform)\n",
    "\n",
    "#Device\n",
    "top_device_info = list(train_df['DeviceInfo'].value_counts().index)[:100] #top device info\n",
    "train_df['DeviceInfo_new'] = train_df['DeviceInfo'].apply(device_info_transform)\n",
    "\n",
    "#IDs\n",
    "id_lst = ['id_01', 'id_03', 'id_04', 'id_05', 'id_06', 'id_09', 'id_10', 'id_11', 'id_13', 'id_14', \n",
    "               'id_17', 'id_19', 'id_20', 'id_30', 'id_31', 'id_33']\n",
    "new_id_lst = [i + '_new' for i in id_lst]\n",
    "top_i_lst = []\n",
    "for i in id_lst:\n",
    "    new_col = i + '_new'\n",
    "    top_i = list(train_df[i].value_counts().index)[:100]\n",
    "    top_i_lst.append(top_i)\n",
    "    train_df[new_col] = train_df[i].apply(transform_i)"
   ]
  },
  {
   "cell_type": "markdown",
   "metadata": {},
   "source": [
    "4. **Replace numerical missing values with 0 and replace any invalid number with -10 and 10**\n",
    "    - Since there are many columns with large number of missing data, we decide to replace the missing data for numerical columns with 0 as it will most likely not affect our prediction. Some invalid numbers such as infinity or negative infinity would cause issues in our predictions. Therefore, we decide to replace these invalid number with large numbers such as -10 and 10."
   ]
  },
  {
   "cell_type": "markdown",
   "metadata": {},
   "source": [
    "### Cleaned Data Preview"
   ]
  },
  {
   "cell_type": "code",
   "execution_count": 9,
   "metadata": {},
   "outputs": [
    {
     "data": {
      "text/html": [
       "<div>\n",
       "<style scoped>\n",
       "    .dataframe tbody tr th:only-of-type {\n",
       "        vertical-align: middle;\n",
       "    }\n",
       "\n",
       "    .dataframe tbody tr th {\n",
       "        vertical-align: top;\n",
       "    }\n",
       "\n",
       "    .dataframe thead th {\n",
       "        text-align: right;\n",
       "    }\n",
       "</style>\n",
       "<table border=\"1\" class=\"dataframe\">\n",
       "  <thead>\n",
       "    <tr style=\"text-align: right;\">\n",
       "      <th></th>\n",
       "      <th>TransactionID</th>\n",
       "      <th>id_01</th>\n",
       "      <th>id_02</th>\n",
       "      <th>id_03</th>\n",
       "      <th>id_04</th>\n",
       "      <th>id_05</th>\n",
       "      <th>id_06</th>\n",
       "      <th>id_07</th>\n",
       "      <th>id_08</th>\n",
       "      <th>id_09</th>\n",
       "      <th>...</th>\n",
       "      <th>id_10_new</th>\n",
       "      <th>id_11_new</th>\n",
       "      <th>id_13_new</th>\n",
       "      <th>id_14_new</th>\n",
       "      <th>id_17_new</th>\n",
       "      <th>id_19_new</th>\n",
       "      <th>id_20_new</th>\n",
       "      <th>id_30_new</th>\n",
       "      <th>id_31_new</th>\n",
       "      <th>id_33_new</th>\n",
       "    </tr>\n",
       "  </thead>\n",
       "  <tbody>\n",
       "    <tr>\n",
       "      <th>0</th>\n",
       "      <td>3429330</td>\n",
       "      <td>NaN</td>\n",
       "      <td>NaN</td>\n",
       "      <td>NaN</td>\n",
       "      <td>NaN</td>\n",
       "      <td>NaN</td>\n",
       "      <td>NaN</td>\n",
       "      <td>NaN</td>\n",
       "      <td>NaN</td>\n",
       "      <td>NaN</td>\n",
       "      <td>...</td>\n",
       "      <td>Missing</td>\n",
       "      <td>Missing</td>\n",
       "      <td>Missing</td>\n",
       "      <td>Missing</td>\n",
       "      <td>Missing</td>\n",
       "      <td>Missing</td>\n",
       "      <td>Missing</td>\n",
       "      <td>Missing</td>\n",
       "      <td>Missing</td>\n",
       "      <td>Missing</td>\n",
       "    </tr>\n",
       "    <tr>\n",
       "      <th>1</th>\n",
       "      <td>3388901</td>\n",
       "      <td>-20.0</td>\n",
       "      <td>336876.0</td>\n",
       "      <td>NaN</td>\n",
       "      <td>NaN</td>\n",
       "      <td>2.0</td>\n",
       "      <td>-13.0</td>\n",
       "      <td>NaN</td>\n",
       "      <td>NaN</td>\n",
       "      <td>NaN</td>\n",
       "      <td>...</td>\n",
       "      <td>Missing</td>\n",
       "      <td>100.0</td>\n",
       "      <td>64.0</td>\n",
       "      <td>Missing</td>\n",
       "      <td>225.0</td>\n",
       "      <td>176.0</td>\n",
       "      <td>595.0</td>\n",
       "      <td>Missing</td>\n",
       "      <td>chrome 65.0 for android</td>\n",
       "      <td>Missing</td>\n",
       "    </tr>\n",
       "    <tr>\n",
       "      <th>2</th>\n",
       "      <td>3290494</td>\n",
       "      <td>-15.0</td>\n",
       "      <td>615247.0</td>\n",
       "      <td>0.0</td>\n",
       "      <td>0.0</td>\n",
       "      <td>0.0</td>\n",
       "      <td>0.0</td>\n",
       "      <td>NaN</td>\n",
       "      <td>NaN</td>\n",
       "      <td>0.0</td>\n",
       "      <td>...</td>\n",
       "      <td>0.0</td>\n",
       "      <td>100.0</td>\n",
       "      <td>33.0</td>\n",
       "      <td>Missing</td>\n",
       "      <td>225.0</td>\n",
       "      <td>427.0</td>\n",
       "      <td>507.0</td>\n",
       "      <td>Missing</td>\n",
       "      <td>chrome 64.0 for android</td>\n",
       "      <td>Missing</td>\n",
       "    </tr>\n",
       "    <tr>\n",
       "      <th>3</th>\n",
       "      <td>3519314</td>\n",
       "      <td>-15.0</td>\n",
       "      <td>244168.0</td>\n",
       "      <td>NaN</td>\n",
       "      <td>NaN</td>\n",
       "      <td>3.0</td>\n",
       "      <td>-26.0</td>\n",
       "      <td>NaN</td>\n",
       "      <td>NaN</td>\n",
       "      <td>NaN</td>\n",
       "      <td>...</td>\n",
       "      <td>Missing</td>\n",
       "      <td>100.0</td>\n",
       "      <td>64.0</td>\n",
       "      <td>Missing</td>\n",
       "      <td>225.0</td>\n",
       "      <td>417.0</td>\n",
       "      <td>340.0</td>\n",
       "      <td>Missing</td>\n",
       "      <td>chrome 66.0 for android</td>\n",
       "      <td>Missing</td>\n",
       "    </tr>\n",
       "    <tr>\n",
       "      <th>4</th>\n",
       "      <td>3572285</td>\n",
       "      <td>-10.0</td>\n",
       "      <td>192827.0</td>\n",
       "      <td>0.0</td>\n",
       "      <td>0.0</td>\n",
       "      <td>27.0</td>\n",
       "      <td>-36.0</td>\n",
       "      <td>NaN</td>\n",
       "      <td>NaN</td>\n",
       "      <td>0.0</td>\n",
       "      <td>...</td>\n",
       "      <td>0.0</td>\n",
       "      <td>100.0</td>\n",
       "      <td>27.0</td>\n",
       "      <td>-480.0</td>\n",
       "      <td>166.0</td>\n",
       "      <td>122.0</td>\n",
       "      <td>222.0</td>\n",
       "      <td>Android 7.1.1</td>\n",
       "      <td>chrome 56.0 for android</td>\n",
       "      <td>855x480</td>\n",
       "    </tr>\n",
       "  </tbody>\n",
       "</table>\n",
       "<p>5 rows × 459 columns</p>\n",
       "</div>"
      ],
      "text/plain": [
       "   TransactionID  id_01     id_02  id_03  id_04  id_05  id_06  id_07  id_08  \\\n",
       "0        3429330    NaN       NaN    NaN    NaN    NaN    NaN    NaN    NaN   \n",
       "1        3388901  -20.0  336876.0    NaN    NaN    2.0  -13.0    NaN    NaN   \n",
       "2        3290494  -15.0  615247.0    0.0    0.0    0.0    0.0    NaN    NaN   \n",
       "3        3519314  -15.0  244168.0    NaN    NaN    3.0  -26.0    NaN    NaN   \n",
       "4        3572285  -10.0  192827.0    0.0    0.0   27.0  -36.0    NaN    NaN   \n",
       "\n",
       "   id_09  ...  id_10_new  id_11_new id_13_new  id_14_new  id_17_new id_19_new  \\\n",
       "0    NaN  ...    Missing    Missing   Missing    Missing    Missing   Missing   \n",
       "1    NaN  ...    Missing      100.0      64.0    Missing      225.0     176.0   \n",
       "2    0.0  ...        0.0      100.0      33.0    Missing      225.0     427.0   \n",
       "3    NaN  ...    Missing      100.0      64.0    Missing      225.0     417.0   \n",
       "4    0.0  ...        0.0      100.0      27.0     -480.0      166.0     122.0   \n",
       "\n",
       "  id_20_new      id_30_new                id_31_new  id_33_new  \n",
       "0   Missing        Missing                  Missing    Missing  \n",
       "1     595.0        Missing  chrome 65.0 for android    Missing  \n",
       "2     507.0        Missing  chrome 64.0 for android    Missing  \n",
       "3     340.0        Missing  chrome 66.0 for android    Missing  \n",
       "4     222.0  Android 7.1.1  chrome 56.0 for android    855x480  \n",
       "\n",
       "[5 rows x 459 columns]"
      ]
     },
     "execution_count": 9,
     "metadata": {},
     "output_type": "execute_result"
    }
   ],
   "source": [
    "train_df.reset_index(drop=True, inplace=True)\n",
    "train_df.head()"
   ]
  },
  {
   "cell_type": "markdown",
   "metadata": {},
   "source": [
    "# Proposed Solution\n",
    "\n",
    "To predict whether a transaction is fraudulent or not, we will train and compare several supervised machine learning classifiers using the information about the transactions and the user identities. The first step is to join the transaction table and identity table by transaction id. We will clean up the dataset by removing or imputing the missing or invalid data. Next, we will perform feature engineering by implementing one-hot encoding for the categorical features, standardization for the numerical features, and principal component analysis for all the newly engineered features. Afterwards, we will select the top features and train different classifiers on the feature data. For model selections, we will try Naive Bayes, RandomForest, LightGBM, and XGBoost as they are more suitable for classification tasks and can be trained on large datasets with high-dimensional feature spaces. For performance evaluation, we will split the data into training and testing sets, and use metrics such as accuracy, precision, recall, and F1 score to measure the performance of the classifier on the testing set. We will also use cross-validation to prevent overfitting and use grid search to tune the hyperparameters of the classifier. \n",
    "In terms of implementation, we will use scikit-learn, lightGBM, and XGBoost libraries/packages and their functions to preprocess the data and construct the models. For our benchmark model, we plan to use a Naive Bayes classifier and compare it with the performance of the other models (RandomForest, LightGBM, and XGBoost). We will also use grid search to find the optimal hyperparameters for the model."
   ]
  },
  {
   "cell_type": "markdown",
   "metadata": {},
   "source": [
    "# Evaluation Metrics\n",
    "\n",
    "For each observation in the test set, we will predict whether or not the transaction is fraud. To evaluate our model performance, we will be mainly using Confusion Matrix to assess our predictions. In the case of fraud detection, the cost of False Negatives is much higher than the cost of False Positives. To put it into context, we would rather predict transactions that are not fraudulent as fraudulent than predict some transactions that are fraudulent as not fraudulent. **Therefore, we need to focus on getting higher recall.** Meanwhile, we will also control for the balance of our model predictions by looking at accuracy, precision, and F1 score.\n",
    "\n",
    "- Recall = True Positive / (True Positive + False Negative)\n",
    "- Precision = True Positive / (True Positive + False Positive)\n",
    "- F1 = (2 * precision * recall) / (precision + recall)\n",
    "- Accuracy = (True Positive + True Negative) / (True Positive + False Negative + True Negative + False Positive)\n",
    "\n"
   ]
  },
  {
   "cell_type": "markdown",
   "metadata": {},
   "source": [
    "# Results\n",
    "\n",
    "Reports should have a __narrative__. Once you've looked through all your results over the quarter, decide on one main point and 2-4 secondary points you want us to understand. Include the detailed code and analysis results of those points only; you should spend more time/code/plots on your main point than the others.\n",
    "\n",
    "\n",
    "### 1: Motivation behind Algorithm Selections\n",
    "\n",
    "Because fraud detection is a binary classification task, we narrowed our selection of algorithms down to Bernoulli Naive Bayes, Random Forest as some basic classifiers. To reach for higher efficiency and accuracy, we also experimented with LightGBM and XGBoost classifiers. \n",
    "\n",
    "**Naive Bayes**\n",
    "- For Naive Bayes, it is a popular probabilistic classifier that works by calculating the probability of a data point belonging to each class based on the input features, and then choosing the class with the highest probability. In fraud detection, Naive Bayes can be used to calculate the probability of a transaction being fraudulent based on input features such as transaction amount, location, and time of day. One of the advantages of Naive Bayes is that it is computationally efficient and can handle a large number of input features. However, it makes the assumption that all input features are independent of each other, which may not always be the case in real-world datasets. \n",
    "\n",
    "**Random Forest**\n",
    "- Random forest is an ensemble method that combines multiple decision trees to improve performance and reduce the chance of overfitting. Random forest can be an effective classifier for fraud detection because it can handle a large number of input features and can identify the most important features for classification.\n",
    "\n",
    "**LightGBM**\n",
    "- LightGBM also works well when we have a large dataset with many features. It is a gradient boosting framework that uses decision trees as the base learners and can handle binary classification tasks well. One of the advantages of LightGBM is the speed and scalability. It can train models much faster than other gradient boosting frameworks like XGBoost. Additionally, LightGBM can handle missing data and can automatically handle categorical features.\n",
    "\n",
    "**XGBoost**\n",
    "- XGBoost can also be used for fraud detection because it is really effective for handling imbalanced dataset. The nature of fraud detection means that we will have more authentic transactions than fraud transactions. Therefore, handling imbalanced data could be critical in helping us detect the fraud transactions. XGBoost is also a gradient boosting framework that uses decision trees as the base learners and it is really effective in handling missing data and categorical features.\n",
    "\n",
    "\n",
    "\n"
   ]
  },
  {
   "cell_type": "markdown",
   "metadata": {},
   "source": [
    "### 2. Feature Engineering\n",
    "\n",
    "Another likely section is if you are doing any feature selection through cross-validation or hand-design/validation of features/transformations of the data\n",
    "\n"
   ]
  },
  {
   "cell_type": "markdown",
   "metadata": {},
   "source": [
    "We need feature engineering so that we can extract maximum information from our data while prevent overfitting."
   ]
  },
  {
   "cell_type": "markdown",
   "metadata": {},
   "source": [
    "#### One-Hot Encoding"
   ]
  },
  {
   "cell_type": "markdown",
   "metadata": {},
   "source": [
    "Our first step is one hot encoding. We will encode the device type('DeviceType'), all the 'id's not included in the transformation in the previous transformation(because these have less unique values), the information derived from transaction datetime ('TransactionDayOfWeek' and 'TransactionHour'), product code('ProductCD'), card informations('card4' and 'card6'), cleaned billing region('addr1_new'), cleaned billing contry('addr2_new'), cleaned purchaser email domain('P_emaildomain_new') and cleaned receipient email domain('R_emaildomain_new'), cleaned device information('DeviceInfo_new'), and matches between information provided (M1-9).\n",
    "The method we use will be the the OneHotEncoder from sklearn for onehot encoding. We one hot encode so that we can modify each unique value to features. Then we can encode the new columns based on original columns using 1 and 0."
   ]
  },
  {
   "cell_type": "code",
   "execution_count": 10,
   "metadata": {},
   "outputs": [],
   "source": [
    "# list for one-hot\n",
    "one_hot_lst = ['DeviceType', 'id_12', 'id_15', 'id_16', 'id_23', 'id_27', 'id_28', 'id_29', 'id_32', 'id_34', \n",
    "               'id_35', 'id_36', 'id_37', 'id_38', 'TransactionDayOfWeek', 'TransactionHour',\n",
    "               'ProductCD', 'card4', 'card6', 'addr1_new', 'addr2_new', 'P_emaildomain_new', 'R_emaildomain_new',\n",
    "               'DeviceInfo_new', 'M1', 'M2', 'M3', 'M4', 'M5', 'M6', 'M7', 'M8', 'M9'] + new_id_lst\n",
    "v_col = ['V' + str(i) for i in range(1, 340)]\n",
    "num_list = ['C1', 'C2', 'C3', 'C4', 'C5', 'C6', 'C7', 'C8', 'C9', 'C10', 'C11', 'C12', 'C13', 'C14',\n",
    "        'dist1', 'dist2', 'TransactionAmt_log'] + v_col\n",
    "\n",
    "to_ohe = train_df[one_hot_lst]\n",
    "ohe = OneHotEncoder(handle_unknown='ignore')\n",
    "ohe.fit(to_ohe)\n",
    "ohe_features = ohe.transform(to_ohe)\n",
    "cates = pd.DataFrame(ohe_features.toarray())"
   ]
  },
  {
   "cell_type": "markdown",
   "metadata": {},
   "source": [
    "#### PCA"
   ]
  },
  {
   "cell_type": "markdown",
   "metadata": {},
   "source": [
    "We will then run principle component analysis on the numerical variables. When ploting the explained variance ratio by n_components, we can find that cumulative variance exceeds 0.995 when n componenets exceeds 3, which is an indicator that we can map our numerical features to only 4 dimensions, while capturing enough of the cumulative explained variances. So that we can keep the essetial informations while prevent overfitting."
   ]
  },
  {
   "cell_type": "code",
   "execution_count": 11,
   "metadata": {},
   "outputs": [
    {
     "data": {
      "image/png": "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\n",
      "text/plain": [
       "<Figure size 432x288 with 1 Axes>"
      ]
     },
     "metadata": {},
     "output_type": "display_data"
    }
   ],
   "source": [
    "### PCA on numerical variables\n",
    "pca = PCA(n_components=4)\n",
    "nums_part = train_df[num_list].reset_index(drop=True)\n",
    "nums_part = nums_part.fillna(0).replace(-np.Inf, -10).replace(np.Inf, 10)\n",
    "pca.fit(nums_part)\n",
    "# Plot the cumulative explained variance as a function of the number of components\n",
    "plt.plot(np.cumsum(pca.explained_variance_ratio_))\n",
    "plt.xlabel('Number of Components')\n",
    "plt.ylabel('Cumulative Explained Variance')\n",
    "plt.show()\n",
    "nums_part_pca = pca.transform(nums_part)"
   ]
  },
  {
   "cell_type": "markdown",
   "metadata": {},
   "source": [
    "We will then run principle component analysis on the one hot encoded categorical variables. We will run through the similar processes as we did for numerical features. When ploting the explained variance ratio by n_components, we can find that cumulative variance exceeds 0.95 when n componenets is close to 100, which is an indicator that we can map our numerical features to only 100 dimensions, while capturing enough of the cumulative explained variances. So that we can keep the essetial informations while prevent overfitting."
   ]
  },
  {
   "cell_type": "code",
   "execution_count": 12,
   "metadata": {},
   "outputs": [
    {
     "data": {
      "image/png": "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\n",
      "text/plain": [
       "<Figure size 432x288 with 1 Axes>"
      ]
     },
     "metadata": {},
     "output_type": "display_data"
    }
   ],
   "source": [
    "### PCA on categorical variables\n",
    "pca = PCA(n_components=100)\n",
    "pca.fit(cates)\n",
    "# Plot the cumulative explained variance as a function of the number of components\n",
    "plt.plot(np.cumsum(pca.explained_variance_ratio_))\n",
    "plt.xlabel('Number of Components')\n",
    "plt.ylabel('Cumulative Explained Variance')\n",
    "plt.show()\n",
    "cates_pca = pca.transform(cates)"
   ]
  },
  {
   "cell_type": "markdown",
   "metadata": {},
   "source": [
    "In the end, we will concat the two dataframes together so that we can train and fit data for prediction."
   ]
  },
  {
   "cell_type": "code",
   "execution_count": 13,
   "metadata": {},
   "outputs": [],
   "source": [
    "X = pd.concat([pd.DataFrame(nums_part_pca), pd.DataFrame(cates_pca)], axis=1)\n",
    "X.columns = [x for x in range(len(X.columns.tolist()))]\n",
    "X['isFraud'] = train_df['isFraud']\n",
    "X = X.sample(frac=1, replace=False, random_state=42)\n",
    "X = X.reset_index(drop=True)\n",
    "y = X['isFraud']\n",
    "X = X.drop(['isFraud'], axis=1)\n"
   ]
  },
  {
   "cell_type": "markdown",
   "metadata": {},
   "source": [
    "### 3. Algorithms Comparison through K-Folds CV\n",
    "\n",
    "To get a more consistant result, we used K-Fold validations to access our model performance. We first randomly partitioned our data into ten equal parts. One of them is selected to be the test set and the remaining nine parts are used for training. We will train the model on the training set and evaluate its performance on the test set. We will repeat the process ten times and record the average of the accuracy, precision, recall, and f1-score. The purpose of this technique is to provide an estimate of how well the model is likely to perform on unseen data. By testing the model on multiple partitions of the data, the 10-fold cross-validation method provides a more robust estimate of the model's performance than a simple train test split. It can also help to avoid issues such as overfitting to the training data."
   ]
  },
  {
   "cell_type": "code",
   "execution_count": 63,
   "metadata": {},
   "outputs": [],
   "source": [
    "def kfold_cv(k, X, y, model):\n",
    "    kf = KFold(n_splits=k)\n",
    "    fold = 0\n",
    "    clf = model\n",
    "    acc_lst, pre_lst, rec_lst, f1_score_lst= [],[],[],[]\n",
    "    for train_index, test_index in kf.split(X):\n",
    "        #Split data        \n",
    "        X_train, X_test = X.iloc[train_index], X.iloc[test_index]\n",
    "        y_train, y_test = y.iloc[train_index], y.iloc[test_index]\n",
    "        clf.fit(X_train, y_train)\n",
    "        y_pred = clf.predict(X_test)\n",
    "        accuracy = accuracy_score(y_test, y_pred)\n",
    "        score = precision_recall_fscore_support(y_test, y_pred, average='binary')\n",
    "        acc_lst.append(accuracy)\n",
    "        pre_lst.append(score[0])\n",
    "        rec_lst.append(score[1])\n",
    "        f1_score_lst.append(score[2])\n",
    "        fold+=1\n",
    "        \n",
    "    accuracy = np.mean(acc_lst)\n",
    "    precision = np.mean(pre_lst)\n",
    "    recall = np.mean(rec_lst)\n",
    "    f1 = np.mean(f1_score_lst)\n",
    "    print('Accuracy = ' + str(round(accuracy, 3)))\n",
    "    print('Precision = ' + str(round(precision, 3)))\n",
    "    print('Recall = ' + str(round(recall, 3)))\n",
    "    print('F1 = ' + str(round(f1, 3)))\n",
    "          \n",
    "    return accuracy, precision, recall, f1"
   ]
  },
  {
   "cell_type": "markdown",
   "metadata": {},
   "source": [
    "#### Naive Bayes (Baseline Model)"
   ]
  },
  {
   "cell_type": "code",
   "execution_count": 64,
   "metadata": {},
   "outputs": [
    {
     "name": "stdout",
     "output_type": "stream",
     "text": [
      "Accuracy = 0.697\n",
      "Precision = 0.684\n",
      "Recall = 0.731\n",
      "F1 = 0.707\n"
     ]
    }
   ],
   "source": [
    "nb_model = BernoulliNB()\n",
    "accuracy, precision, recall, f1 = kfold_cv(10, X, y, nb_model)"
   ]
  },
  {
   "cell_type": "markdown",
   "metadata": {},
   "source": [
    "#### Random Forest"
   ]
  },
  {
   "cell_type": "code",
   "execution_count": 65,
   "metadata": {},
   "outputs": [
    {
     "name": "stdout",
     "output_type": "stream",
     "text": [
      "Accuracy = 0.809\n",
      "Precision = 0.82\n",
      "Recall = 0.792\n",
      "F1 = 0.806\n"
     ]
    }
   ],
   "source": [
    "rf_model = RandomForestClassifier(random_state=42)\n",
    "accuracy, precision, recall, f1 = kfold_cv(10, X, y, rf_model)"
   ]
  },
  {
   "cell_type": "markdown",
   "metadata": {},
   "source": [
    "#### LightGBM"
   ]
  },
  {
   "cell_type": "code",
   "execution_count": 66,
   "metadata": {},
   "outputs": [
    {
     "name": "stdout",
     "output_type": "stream",
     "text": [
      "Accuracy = 0.794\n",
      "Precision = 0.807\n",
      "Recall = 0.775\n",
      "F1 = 0.79\n"
     ]
    }
   ],
   "source": [
    "lgb_model = lgb.LGBMClassifier(random_state=42)\n",
    "accuracy, precision, recall, f1 = kfold_cv(10, X, y, lgb_model)"
   ]
  },
  {
   "cell_type": "markdown",
   "metadata": {},
   "source": [
    "#### XGBoost"
   ]
  },
  {
   "cell_type": "code",
   "execution_count": 67,
   "metadata": {},
   "outputs": [
    {
     "name": "stdout",
     "output_type": "stream",
     "text": [
      "Accuracy = 0.802\n",
      "Precision = 0.813\n",
      "Recall = 0.785\n",
      "F1 = 0.799\n"
     ]
    }
   ],
   "source": [
    "xgb_model = xgb.XGBClassifier(random_state=42)\n",
    "accuracy, precision, recall, f1 = kfold_cv(10, X, y, xgb_model)"
   ]
  },
  {
   "cell_type": "markdown",
   "metadata": {},
   "source": [
    "According to the accuracy and the recall comparisons from the different algorithms, we decide to choose Random Forest as our most optimal algorithms because it has the highest recall among the four algorithms. In the next step, we will continue the process in searching for the hyperparameters that optimize our model predictions."
   ]
  },
  {
   "cell_type": "markdown",
   "metadata": {},
   "source": [
    "### 4. Hyperparameters Tuning through Grid Search - Flame\n",
    "\n",
    "Perhaps some exploration of the model selection (hyper-parameters) or algorithm selection task. Validation curves, plots showing the variability of perfromance across folds of the cross-validation, etc. If you're doing one, the outcome of the null hypothesis test or parsimony principle check to show how you are selecting the best model.\n",
    "\n"
   ]
  },
  {
   "cell_type": "markdown",
   "metadata": {},
   "source": [
    "For this section, we will be using gridsearchcv on our data set. But because our data set is too big(takes more than 5 minutes to gridsearcv with only 1 parameter), thus we decided to shorten the list of hyperparameters to tune for random forest to depth, and we'll tune max_depth and learning_rate for lightgbm and xgboost. The score we evaluate on will be recall."
   ]
  },
  {
   "cell_type": "markdown",
   "metadata": {},
   "source": [
    "#### BernoulliNB"
   ]
  },
  {
   "cell_type": "code",
   "execution_count": 19,
   "metadata": {},
   "outputs": [
    {
     "data": {
      "text/plain": [
       "<matplotlib.legend.Legend at 0x249e4a86ee0>"
      ]
     },
     "execution_count": 19,
     "metadata": {},
     "output_type": "execute_result"
    },
    {
     "data": {
      "image/png": "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\n",
      "text/plain": [
       "<Figure size 432x288 with 1 Axes>"
      ]
     },
     "metadata": {},
     "output_type": "display_data"
    }
   ],
   "source": [
    "params = [-10, -1, 0, 1, 10]\n",
    "train_scores, test_scores = validation_curve(BernoulliNB(), X, y, param_name='alpha', param_range=params, cv=5, scoring='recall')\n",
    "plt.plot(params, np.mean(train_scores, axis=1), label='Training score')\n",
    "plt.plot(params, np.mean(test_scores, axis=1), label='Validation score')\n",
    "plt.legend()"
   ]
  },
  {
   "cell_type": "markdown",
   "metadata": {},
   "source": [
    "#### Random Forest"
   ]
  },
  {
   "cell_type": "code",
   "execution_count": 51,
   "metadata": {},
   "outputs": [
    {
     "data": {
      "text/plain": [
       "<matplotlib.legend.Legend at 0x249e4901790>"
      ]
     },
     "execution_count": 51,
     "metadata": {},
     "output_type": "execute_result"
    },
    {
     "data": {
      "image/png": "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\n",
      "text/plain": [
       "<Figure size 432x288 with 1 Axes>"
      ]
     },
     "metadata": {},
     "output_type": "display_data"
    }
   ],
   "source": [
    "params = [20, 40, 80]\n",
    "\n",
    "train_scores, test_scores = validation_curve(RandomForestClassifier(), X, y, param_name='max_depth', param_range=params, cv=5, scoring='recall')\n",
    "plt.plot(params, np.mean(train_scores, axis=1), label='Training score')\n",
    "plt.plot(params, np.mean(test_scores, axis=1), label='Validation score')\n",
    "plt.legend()"
   ]
  },
  {
   "cell_type": "code",
   "execution_count": 36,
   "metadata": {},
   "outputs": [],
   "source": [
    "def plot_results(gridsearchcv): # code from d6\n",
    "    params = gridsearchcv.cv_results_[\"params\"]\n",
    "    ys = gridsearchcv.cv_results_[\"mean_test_score\"]\n",
    "    xs = ['|'.join(str(v) for v in param.values()) for param in params]\n",
    "    yerr = gridsearchcv.cv_results_[\"std_test_score\"]\n",
    "    plt.errorbar(xs, ys, yerr / np.sqrt(gridsearchcv.cv), fmt='.k')\n",
    "    plt.ylabel(\"recall\")\n",
    "    plt.xlabel(\"params\")"
   ]
  },
  {
   "cell_type": "markdown",
   "metadata": {},
   "source": [
    "#### LGBM"
   ]
  },
  {
   "cell_type": "code",
   "execution_count": 30,
   "metadata": {},
   "outputs": [
    {
     "data": {
      "text/plain": [
       "GridSearchCV(cv=5, estimator=LGBMClassifier(),\n",
       "             param_grid={'learning_rate': [0.01, 0.05, 0.1],\n",
       "                         'max_depth': [5, 7, 10, 15]},\n",
       "             scoring='recall')"
      ]
     },
     "execution_count": 30,
     "metadata": {},
     "output_type": "execute_result"
    }
   ],
   "source": [
    "param_grid = {\n",
    "    'max_depth':[5, 7, 10, 15],\n",
    "    'learning_rate':[0.01, 0.05, 0.1]\n",
    "}\n",
    "lgbm = lgb.LGBMClassifier()\n",
    "lgbmcv = GridSearchCV(lgbm, param_grid = param_grid, scoring = 'recall', cv = 5)\n",
    "lgbmcv.fit(X,y)"
   ]
  },
  {
   "cell_type": "code",
   "execution_count": 37,
   "metadata": {},
   "outputs": [
    {
     "data": {
      "image/png": "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\n",
      "text/plain": [
       "<Figure size 864x576 with 1 Axes>"
      ]
     },
     "metadata": {},
     "output_type": "display_data"
    }
   ],
   "source": [
    "plt.figure(figsize=(12,8))\n",
    "plot_results(lgbmcv)"
   ]
  },
  {
   "cell_type": "markdown",
   "metadata": {},
   "source": [
    "#### XGBoost"
   ]
  },
  {
   "cell_type": "code",
   "execution_count": 38,
   "metadata": {},
   "outputs": [
    {
     "data": {
      "text/plain": [
       "GridSearchCV(cv=5,\n",
       "             estimator=XGBClassifier(base_score=None, booster=None,\n",
       "                                     callbacks=None, colsample_bylevel=None,\n",
       "                                     colsample_bynode=None,\n",
       "                                     colsample_bytree=None,\n",
       "                                     early_stopping_rounds=None,\n",
       "                                     enable_categorical=False, eval_metric=None,\n",
       "                                     feature_types=None, gamma=None,\n",
       "                                     gpu_id=None, grow_policy=None,\n",
       "                                     importance_type=None,\n",
       "                                     interaction_constraints=None,\n",
       "                                     learning_rate=None, max_bin=None,\n",
       "                                     max_cat_threshold=None,\n",
       "                                     max_cat_to_onehot=None,\n",
       "                                     max_delta_step=None, max_depth=None,\n",
       "                                     max_leaves=None, min_child_weight=None,\n",
       "                                     missing=nan, monotone_constraints=None,\n",
       "                                     n_estimators=100, n_jobs=None,\n",
       "                                     num_parallel_tree=None, predictor=None,\n",
       "                                     random_state=None, ...),\n",
       "             param_grid={'learning_rate': [0.01, 0.05, 0.1],\n",
       "                         'max_depth': [5, 10, 15, 20]},\n",
       "             scoring='recall')"
      ]
     },
     "execution_count": 38,
     "metadata": {},
     "output_type": "execute_result"
    }
   ],
   "source": [
    "param_grid = {\n",
    "    'max_depth':[5, 10, 15, 20],\n",
    "    'learning_rate':[0.01, 0.05, 0.1]\n",
    "}\n",
    "xgbc = xgb.XGBClassifier()\n",
    "xgbcCV = GridSearchCV(xgbc, param_grid = param_grid, scoring = 'recall', cv = 5)\n",
    "xgbcCV.fit(X,y)"
   ]
  },
  {
   "cell_type": "code",
   "execution_count": 39,
   "metadata": {},
   "outputs": [
    {
     "data": {
      "image/png": "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\n",
      "text/plain": [
       "<Figure size 864x576 with 1 Axes>"
      ]
     },
     "metadata": {},
     "output_type": "display_data"
    }
   ],
   "source": [
    "plt.figure(figsize=(12,8))\n",
    "plot_results(xgbcCV)"
   ]
  },
  {
   "cell_type": "markdown",
   "metadata": {},
   "source": [
    "According to the validation scores. For BernoulliNB, alpha = 0 seems to produce the most desirable result. For Randomforest, when maxdepth is around 40, it seems to produce the best result. For LGBM, when maxdepth is around 10 and learning rate is around 0.1, it seems to produce the best result. For XGBoost, when maxdepth is around 15 and learning rate is around 0.1, it seems to produce the best result."
   ]
  },
  {
   "cell_type": "markdown",
   "metadata": {},
   "source": [
    "### 5 Model Evaluation\n",
    "\n",
    "We decide to fit our tuned models on the training set, test them on the test set, and compare their performances.\n"
   ]
  },
  {
   "cell_type": "code",
   "execution_count": 42,
   "metadata": {},
   "outputs": [],
   "source": [
    "from sklearn.model_selection import train_test_split\n",
    "X_train, X_test, y_train, y_test = train_test_split(X, y, test_size=0.25, random_state=42)"
   ]
  },
  {
   "cell_type": "code",
   "execution_count": 43,
   "metadata": {},
   "outputs": [],
   "source": [
    "best_NB = BernoulliNB(alpha = 0)\n",
    "best_rf = RandomForestClassifier(max_depth = 40)\n",
    "best_lgbm = lgb.LGBMClassifier(learning_rate = 0.1, max_depth = 10)\n",
    "best_xgb = xgb.XGBClassifier(max_depth = 15, learning_rate = 0.1)\n",
    "models = [best_NB, best_rf, best_lgbm, best_xgb]\n",
    "names = ['Naive Bayes', 'Random Forest', 'LightGBM', 'XGBoost']"
   ]
  },
  {
   "cell_type": "code",
   "execution_count": 56,
   "metadata": {},
   "outputs": [],
   "source": [
    "def model_scores(models, names):\n",
    "    i = 0\n",
    "    accs = []\n",
    "    pres = []\n",
    "    recs = []\n",
    "    f1s = []\n",
    "    for m in models:\n",
    "        m.fit(X_train, y_train)\n",
    "        y_pred = m.predict(X_test)\n",
    "        acc = accuracy_score(y_test, y_pred)\n",
    "        accs.append(acc)\n",
    "        score = precision_recall_fscore_support(y_test, y_pred, average = 'binary')\n",
    "        precision = score[0]\n",
    "        pres.append(precision)\n",
    "        recall = score[1]\n",
    "        recs.append(recall)\n",
    "        f1 = score[2]\n",
    "        f1s.append(f1)\n",
    "        print('Scores for ' + names[i])\n",
    "        i += 1\n",
    "        print('Accuracy = ' + str(round(acc, 3)))\n",
    "        print('Precision = ' + str(round(precision, 3)))\n",
    "        print('Recall = ' + str(round(recall, 3)))\n",
    "        print('F1 = ' + str(round(f1, 3)))\n",
    "    return accs, pres, recs, f1s"
   ]
  },
  {
   "cell_type": "code",
   "execution_count": 57,
   "metadata": {},
   "outputs": [
    {
     "name": "stdout",
     "output_type": "stream",
     "text": [
      "Scores for Naive Bayes\n",
      "Accuracy = 0.696\n",
      "Precision = 0.686\n",
      "Recall = 0.73\n",
      "F1 = 0.707\n",
      "Scores for Random Forest\n",
      "Accuracy = 0.803\n",
      "Precision = 0.814\n",
      "Recall = 0.789\n",
      "F1 = 0.802\n",
      "Scores for LightGBM\n",
      "Accuracy = 0.792\n",
      "Precision = 0.806\n",
      "Recall = 0.775\n",
      "F1 = 0.79\n",
      "Scores for XGBoost\n",
      "Accuracy = 0.809\n",
      "Precision = 0.824\n",
      "Recall = 0.789\n",
      "F1 = 0.806\n"
     ]
    }
   ],
   "source": [
    "accs, pres, recs, f1s = model_scores(models, names)"
   ]
  },
  {
   "cell_type": "code",
   "execution_count": 59,
   "metadata": {},
   "outputs": [
    {
     "data": {
      "text/html": [
       "<div>\n",
       "<style scoped>\n",
       "    .dataframe tbody tr th:only-of-type {\n",
       "        vertical-align: middle;\n",
       "    }\n",
       "\n",
       "    .dataframe tbody tr th {\n",
       "        vertical-align: top;\n",
       "    }\n",
       "\n",
       "    .dataframe thead th {\n",
       "        text-align: right;\n",
       "    }\n",
       "</style>\n",
       "<table border=\"1\" class=\"dataframe\">\n",
       "  <thead>\n",
       "    <tr style=\"text-align: right;\">\n",
       "      <th></th>\n",
       "      <th>Model</th>\n",
       "      <th>Accuracy</th>\n",
       "    </tr>\n",
       "  </thead>\n",
       "  <tbody>\n",
       "    <tr>\n",
       "      <th>0</th>\n",
       "      <td>Naive Bayes</td>\n",
       "      <td>0.695509</td>\n",
       "    </tr>\n",
       "    <tr>\n",
       "      <th>1</th>\n",
       "      <td>Random Forest</td>\n",
       "      <td>0.802942</td>\n",
       "    </tr>\n",
       "    <tr>\n",
       "      <th>2</th>\n",
       "      <td>LightGBM</td>\n",
       "      <td>0.792393</td>\n",
       "    </tr>\n",
       "    <tr>\n",
       "      <th>3</th>\n",
       "      <td>XGBoost</td>\n",
       "      <td>0.808653</td>\n",
       "    </tr>\n",
       "  </tbody>\n",
       "</table>\n",
       "</div>"
      ],
      "text/plain": [
       "           Model  Accuracy\n",
       "0    Naive Bayes  0.695509\n",
       "1  Random Forest  0.802942\n",
       "2       LightGBM  0.792393\n",
       "3        XGBoost  0.808653"
      ]
     },
     "execution_count": 59,
     "metadata": {},
     "output_type": "execute_result"
    }
   ],
   "source": [
    "accPD = pd.DataFrame({'Model': ['Naive Bayes', 'Random Forest', 'LightGBM', 'XGBoost'], \n",
    "                     'Accuracy': accs})                                                                          \n",
    "accPD"
   ]
  },
  {
   "cell_type": "code",
   "execution_count": 60,
   "metadata": {},
   "outputs": [
    {
     "data": {
      "text/html": [
       "<div>\n",
       "<style scoped>\n",
       "    .dataframe tbody tr th:only-of-type {\n",
       "        vertical-align: middle;\n",
       "    }\n",
       "\n",
       "    .dataframe tbody tr th {\n",
       "        vertical-align: top;\n",
       "    }\n",
       "\n",
       "    .dataframe thead th {\n",
       "        text-align: right;\n",
       "    }\n",
       "</style>\n",
       "<table border=\"1\" class=\"dataframe\">\n",
       "  <thead>\n",
       "    <tr style=\"text-align: right;\">\n",
       "      <th></th>\n",
       "      <th>Model</th>\n",
       "      <th>Recall</th>\n",
       "    </tr>\n",
       "  </thead>\n",
       "  <tbody>\n",
       "    <tr>\n",
       "      <th>0</th>\n",
       "      <td>Naive Bayes</td>\n",
       "      <td>0.729994</td>\n",
       "    </tr>\n",
       "    <tr>\n",
       "      <th>1</th>\n",
       "      <td>Random Forest</td>\n",
       "      <td>0.789100</td>\n",
       "    </tr>\n",
       "    <tr>\n",
       "      <th>2</th>\n",
       "      <td>LightGBM</td>\n",
       "      <td>0.775475</td>\n",
       "    </tr>\n",
       "    <tr>\n",
       "      <th>3</th>\n",
       "      <td>XGBoost</td>\n",
       "      <td>0.789292</td>\n",
       "    </tr>\n",
       "  </tbody>\n",
       "</table>\n",
       "</div>"
      ],
      "text/plain": [
       "           Model    Recall\n",
       "0    Naive Bayes  0.729994\n",
       "1  Random Forest  0.789100\n",
       "2       LightGBM  0.775475\n",
       "3        XGBoost  0.789292"
      ]
     },
     "execution_count": 60,
     "metadata": {},
     "output_type": "execute_result"
    }
   ],
   "source": [
    "recPD = pd.DataFrame({'Model': ['Naive Bayes', 'Random Forest', 'LightGBM', 'XGBoost'], \n",
    "                     'Recall': recs})                                                                          \n",
    "recPD"
   ]
  },
  {
   "cell_type": "code",
   "execution_count": 61,
   "metadata": {},
   "outputs": [
    {
     "data": {
      "text/html": [
       "<div>\n",
       "<style scoped>\n",
       "    .dataframe tbody tr th:only-of-type {\n",
       "        vertical-align: middle;\n",
       "    }\n",
       "\n",
       "    .dataframe tbody tr th {\n",
       "        vertical-align: top;\n",
       "    }\n",
       "\n",
       "    .dataframe thead th {\n",
       "        text-align: right;\n",
       "    }\n",
       "</style>\n",
       "<table border=\"1\" class=\"dataframe\">\n",
       "  <thead>\n",
       "    <tr style=\"text-align: right;\">\n",
       "      <th></th>\n",
       "      <th>Model</th>\n",
       "      <th>Precision</th>\n",
       "    </tr>\n",
       "  </thead>\n",
       "  <tbody>\n",
       "    <tr>\n",
       "      <th>0</th>\n",
       "      <td>Naive Bayes</td>\n",
       "      <td>0.686271</td>\n",
       "    </tr>\n",
       "    <tr>\n",
       "      <th>1</th>\n",
       "      <td>Random Forest</td>\n",
       "      <td>0.814419</td>\n",
       "    </tr>\n",
       "    <tr>\n",
       "      <th>2</th>\n",
       "      <td>LightGBM</td>\n",
       "      <td>0.805622</td>\n",
       "    </tr>\n",
       "    <tr>\n",
       "      <th>3</th>\n",
       "      <td>XGBoost</td>\n",
       "      <td>0.823918</td>\n",
       "    </tr>\n",
       "  </tbody>\n",
       "</table>\n",
       "</div>"
      ],
      "text/plain": [
       "           Model  Precision\n",
       "0    Naive Bayes   0.686271\n",
       "1  Random Forest   0.814419\n",
       "2       LightGBM   0.805622\n",
       "3        XGBoost   0.823918"
      ]
     },
     "execution_count": 61,
     "metadata": {},
     "output_type": "execute_result"
    }
   ],
   "source": [
    "prePD = pd.DataFrame({'Model': ['Naive Bayes', 'Random Forest', 'LightGBM', 'XGBoost'], \n",
    "                     'Precision': pres})                                                                          \n",
    "prePD"
   ]
  },
  {
   "cell_type": "code",
   "execution_count": 62,
   "metadata": {},
   "outputs": [
    {
     "data": {
      "text/html": [
       "<div>\n",
       "<style scoped>\n",
       "    .dataframe tbody tr th:only-of-type {\n",
       "        vertical-align: middle;\n",
       "    }\n",
       "\n",
       "    .dataframe tbody tr th {\n",
       "        vertical-align: top;\n",
       "    }\n",
       "\n",
       "    .dataframe thead th {\n",
       "        text-align: right;\n",
       "    }\n",
       "</style>\n",
       "<table border=\"1\" class=\"dataframe\">\n",
       "  <thead>\n",
       "    <tr style=\"text-align: right;\">\n",
       "      <th></th>\n",
       "      <th>Model</th>\n",
       "      <th>f1</th>\n",
       "    </tr>\n",
       "  </thead>\n",
       "  <tbody>\n",
       "    <tr>\n",
       "      <th>0</th>\n",
       "      <td>Naive Bayes</td>\n",
       "      <td>0.707458</td>\n",
       "    </tr>\n",
       "    <tr>\n",
       "      <th>1</th>\n",
       "      <td>Random Forest</td>\n",
       "      <td>0.801559</td>\n",
       "    </tr>\n",
       "    <tr>\n",
       "      <th>2</th>\n",
       "      <td>LightGBM</td>\n",
       "      <td>0.790261</td>\n",
       "    </tr>\n",
       "    <tr>\n",
       "      <th>3</th>\n",
       "      <td>XGBoost</td>\n",
       "      <td>0.806233</td>\n",
       "    </tr>\n",
       "  </tbody>\n",
       "</table>\n",
       "</div>"
      ],
      "text/plain": [
       "           Model        f1\n",
       "0    Naive Bayes  0.707458\n",
       "1  Random Forest  0.801559\n",
       "2       LightGBM  0.790261\n",
       "3        XGBoost  0.806233"
      ]
     },
     "execution_count": 62,
     "metadata": {},
     "output_type": "execute_result"
    }
   ],
   "source": [
    "f1PD = pd.DataFrame({'Model': ['Naive Bayes', 'Random Forest', 'LightGBM', 'XGBoost'], \n",
    "                     'f1': f1s})                                                                          \n",
    "f1PD"
   ]
  },
  {
   "cell_type": "markdown",
   "metadata": {},
   "source": [
    "After tuning the hyperparameters, we displayed the scores for each model in each separate dataframe to compare more directly. According to the accuracy scores and recall scores, we can see that the XGBoost model has the highest accuracy score and recall score (both around 80%), which is a desired model in the context of our dataset. (Note that this is different from our previous conclusion, which states that Random Forest is the best. This will be discussed in more details in the following limitations part). As reasoned earlier, false negatives are expensive since we do not want to predict a fradulent transaction as non-fraudulent. Thus, we highly value recall score. So, the XGBoost model suits our context."
   ]
  },
  {
   "cell_type": "markdown",
   "metadata": {},
   "source": [
    "# Discussion\n",
    "\n",
    "### Interpreting the result\n",
    "\n",
    "We can see that all our models (random forest, lightgbm, xgboost) performs better than the baseline Naive Bayes model. We suspect that Naive Bayes does not do well on this task because it assumes that all the features are independent of each other, which might not be the case in transactions.\n",
    "\n",
    "Since we're predicting transaction fraud, false negatives would be costly because it would classify fraud as non-fraud. Therefore, overall, we think that XGBoost is our best model for this classification problem because it has higher recall than all the other models. We expected Random Forest to be the best model at first, but then we found that it is inefficient time wise when facing big dataset with many variables, so we only tuned 1 hyperparameter. Although in the end, the Random Forest model produces really close recall score, it takes a huge amount of time to train and fit comparing to the other models. Considering time efficiencies, we decide that XGBoost is better than Random Forest for this problem. \n",
    "\n",
    "### Limitations\n",
    "\n",
    "One limitation of our project is that it predicts fraud from data provided by Vesta’s fraud protection system and digital security partners, which is a small number of companies. Therefore, if we we were to try to predict transaction fraud with data from a different security company, we can expect that the data format / presented information will be at least somewhat different, and we'll likely need to reconstruct a huge part of our solution. \n",
    "\n",
    "Moreover, since our dataset is rather big and contains a large number of features, random forest takes a really long time. We expect random forest to produce good results, but since tuning takes way too long, we could only tune 1 hyperparameter for random forest. \n",
    "\n",
    "Since we need to tune parameters for 3 models, if we're given more time, we expect our final models to generate better results. Especially since tuning on random forest takes a long time, we decide to only tune 1 hyperparameter. If we're given more time to tune more hyperparameters, we probably will be able to get a better random forest model and better lightgbm, xgboost models. \n",
    "\n",
    "### Ethics & Privacy\n",
    "\n",
    "First of all, since this is a public dataset found on Kaggle, it’s likely that it is rather safe regarding ethics and data privacy concerns. Upon examining the dataset, although we have transaction id, there’s no way we could trace it back to find personally identifiable information. Moreover, although we have payment card information, we don’t have card number, but only card type, card category, issue bank, and country, which also isn’t enough to extract personally identifiable information. For the identity part of this dataset, it’s unlikely that there could be ethical or privacy concerns because we don’t actually know what the fields stand for, as they are simply called id2, id3, etc. According to the descriptions, The field names are masked and pairwise dictionaries will not be provided for privacy protection and contract agreement. However, this dataset could be somewhat biased because according to its description, the data is collected by Vesta’s fraud protection system and digital security partners, which is only one or several companies. Thus, this dataset is not guaranteed to be an accurate representation of all transactions that are fraud or not. It is also unlikely that our results could be used unethically because our task tries to identify and prevent frauds, without violating data privacy and without proposing individuals to engage in these illegal activities. \n",
    "\n",
    "### Conclusion\n",
    "\n",
    "In summary, our models, Naive Bayes, Random Forest, Light GBM, XGBoost, take in the train data containing the identity and transaction details of each transaction, and predict whether this transaction is fraudulent or not. Our test scores show that the XGBoost model is pretty good at predicting if a transaction is non-fraudulent. However, one thing that we need to notice about this project is that the original data set are highly unbalanced. This intuitive since in real-world, the amount of normal transactions outweigh the amount of abnormal transactions. Thus, a possible direction for future work is that we need to balance our dataset first to make the model more robust and meaningful. Otherwise, if the data is imbalanced, a simple prediction model that predicts all transactions as non-fraudulent would give a high accuracy score, which is not what we desire. But a choice of recall score is proper since it will take into account of false negatives. Thus, another direction for future work is that we need to have good choice of error metric to evaluate our model in the context of data."
    "\n",
    "All in all, our whole team feels that we have learnt a lot about machine learning concepts through this course. And this hands-on project gives us the opportunity to apply the knowledge to solve real-world problems. Thank you all for an amazing quarter! Have a nice spring break!"
   ]
  },
  {
   "cell_type": "markdown",
   "metadata": {},
   "source": [
    "# Footnotes\n",
    "<a name=\"Sasso\"></a>1.[^](#Sasso): Sasso, T. (14 Feb 2023) What is Online Transaction Fraud? *Funraise.* https://help.funraise.io/en/articles/3944864-what-is-online-transaction-fraud#:~:text=What%20is%20Transaction%20Fraud%3F%20Transaction%20fraud%20is%20a,a%20transaction%20in%20their%20name%E2%80%94like%20stolen%20credit%20cards. <br> \n",
    "<a name=\"Skiba\"></a>2.[^](#Skiba): Skiba, K. (22 Feb 2022) Consumer Fraud Losses Hit Record $5.8 Billion. *AARP.* https://www.aarp.org/money/scams-fraud/info-2022/ftc-fraud-report-new.html <br>\n",
    "<a name=\"McKee\"></a>3.[^](#McKee): McKee, J. (22 Nov 2022) Unpacking The Overall Impact of Fraud. *Forbes.* https://www.forbes.com/sites/jordanmckee/2020/11/22/unpacking-the-overall-impact-of-fraud/?sh=560a75917891 <br>\n",
    "<a name=\"Oakley\"></a>4.[^](#Oakley): Oakley, C. (30 March 2022) The role of machine learning in fraud detection. *Featurespace.* https://www.featurespace.com/newsroom/the-role-of-machine-learning-in-fraud-detection/<br> \n",
    "<a name=\"Pykes\"></a>5.[^](#Pykes): Pykes, K. (21 Sep 2020) Using Machine Learning To Detect Fraud. *Towards Data Science.* https://towardsdatascience.com/using-machine-learning-to-detect-fraud-f204910389cf <br>\n"
   ]
  }
 ],
 "metadata": {
  "kernelspec": {
   "display_name": "Python 3 (ipykernel)",
   "language": "python",
   "name": "python3"
  },
  "language_info": {
   "codemirror_mode": {
    "name": "ipython",
    "version": 3
   },
   "file_extension": ".py",
   "mimetype": "text/x-python",
   "name": "python",
   "nbconvert_exporter": "python",
   "pygments_lexer": "ipython3",
   "version": "3.9.7"
  },
  "vscode": {
   "interpreter": {
    "hash": "1e4b1680740ac74e25e62b81b90aa066d512347530919f778a0250096537ad00"
   }
  }
 },
 "nbformat": 4,
 "nbformat_minor": 2
}
