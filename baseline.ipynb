{
 "cells": [
  {
   "cell_type": "code",
   "execution_count": 104,
   "id": "34ba0068",
   "metadata": {},
   "outputs": [],
   "source": [
    "import numpy as np\n",
    "import math\n",
    "import pandas as pd\n",
    "import sklearn as sk\n",
    "import os\n",
    "import matplotlib\n",
    "import matplotlib.pyplot as plt\n",
    "import warnings \n",
    "from sklearn.decomposition import PCA\n",
    "from sklearn.preprocessing import OneHotEncoder\n",
    "from sklearn.metrics import accuracy_score\n",
    "import xgboost as xgb\n",
    "from sklearn.model_selection import train_test_split\n",
    "from sklearn.metrics import plot_confusion_matrix\n",
    "from sklearn.tree import DecisionTreeClassifier\n",
    "from sklearn.naive_bayes import BernoulliNB\n",
    "from sklearn import metrics\n",
    "from sklearn.metrics import precision_recall_fscore_support\n",
    "warnings.filterwarnings('ignore')\n",
    "import seaborn as sns; sns.set_theme()"
   ]
  },
  {
   "cell_type": "markdown",
   "id": "e9466841",
   "metadata": {},
   "source": [
    "### Load Data"
   ]
  },
  {
   "cell_type": "code",
   "execution_count": 105,
   "id": "e17ee3fa",
   "metadata": {},
   "outputs": [
    {
     "name": "stdout",
     "output_type": "stream",
     "text": [
      "Transaction Training DataFrame: 590540 rows & 394 columns.\n",
      "Identity Training DataFrame: 144233 rows & 41 columns.\n",
      "Training DataFrame: 590540 rows & 434 columns.\n",
      "Testing DataFrame: 506691 rows & 433 columns.\n"
     ]
    }
   ],
   "source": [
    "#Data path\n",
    "train_transaction_path = \"data/train_transaction.csv\"\n",
    "train_identity_path = \"data/train_identity.csv\"\n",
    "test_transaction_path = \"data/test_transaction.csv\"\n",
    "test_identity_path = \"data/test_identity.csv\"\n",
    "sample_submission_path = \"data/sample_submission.csv\"\n",
    "\n",
    "#Read data\n",
    "train_transaction = pd.read_csv(train_transaction_path)\n",
    "train_identity = pd.read_csv(train_identity_path)\n",
    "test_transaction = pd.read_csv(test_transaction_path)\n",
    "test_identity = pd.read_csv(test_identity_path)\n",
    "sample_submission = pd.read_csv(sample_submission_path)\n",
    "\n",
    "train_df = pd.merge(train_identity, train_transaction, on=\"TransactionID\", how='right')\n",
    "test_df = pd.merge(test_identity, test_transaction, on=\"TransactionID\", how='right')\n",
    "train_transaction_row = train_transaction.shape[0]\n",
    "train_transaction_col = train_transaction.shape[1]\n",
    "train_identity_row = train_identity.shape[0]\n",
    "train_identity_col = train_identity.shape[1]\n",
    "\n",
    "train_df_row = train_df.shape[0]\n",
    "train_df_col = train_df.shape[1]\n",
    "test_df_row = test_df.shape[0]\n",
    "test_df_col = test_df.shape[1]\n",
    "\n",
    "print('Transaction Training DataFrame: {} rows & {} columns.'.format(train_transaction_row, train_transaction_col))\n",
    "print('Identity Training DataFrame: {} rows & {} columns.'.format(train_identity_row, train_identity_col))\n",
    "print('Training DataFrame: {} rows & {} columns.'.format(train_df_row, train_df_col))\n",
    "print('Testing DataFrame: {} rows & {} columns.'.format(test_df_row, test_df_col))"
   ]
  },
  {
   "cell_type": "code",
   "execution_count": 106,
   "id": "abfbb9c9",
   "metadata": {},
   "outputs": [],
   "source": [
    "# release data from those four\n",
    "del train_transaction\n",
    "del train_identity\n",
    "# del test_transaction\n",
    "# del test_identity"
   ]
  },
  {
   "cell_type": "code",
   "execution_count": 107,
   "id": "84c012f4",
   "metadata": {},
   "outputs": [],
   "source": [
    "# train_is_fraud = train_df[train_df['isFraud']==1].sample(replace=True, n=10*len(train_df[train_df['isFraud']==1]))\n",
    "# train_is_not_fraud = train_df[train_df['isFraud']==0].sample(n=len(train_is_fraud))\n",
    "train_is_fraud = train_df[train_df['isFraud']==1].sample(replace=False, n=len(train_df[train_df['isFraud']==1]))\n",
    "train_is_not_fraud = train_df[train_df['isFraud']==0].sample(replace=False, n=len(train_is_fraud))\n",
    "train_df = pd.concat([train_is_fraud, train_is_not_fraud])"
   ]
  },
  {
   "cell_type": "markdown",
   "id": "4b6ca49c",
   "metadata": {},
   "source": [
    "### Time"
   ]
  },
  {
   "cell_type": "code",
   "execution_count": 108,
   "id": "d8da86b6",
   "metadata": {},
   "outputs": [],
   "source": [
    "## Day of week (one hot)\n",
    "def convert_day_of_week(x):\n",
    "    return (x // (24 * 60 * 60)) % 7\n",
    "\n",
    "# Hour of day (one hot)\n",
    "def convert_hour(x):\n",
    "    return (x // (1 * 60 * 60)) % 24\n",
    "\n",
    "def addr1_transform(x):\n",
    "    if x in top_ten_addr1:\n",
    "        return x\n",
    "    elif (pd.isnull(x) == True):\n",
    "        return 0\n",
    "    else:\n",
    "        return -1\n",
    "    \n",
    "def addr2_transform(x):\n",
    "    if x in top_ten_addr2:\n",
    "        return x\n",
    "    elif (pd.isnull(x) == True):\n",
    "        return 0\n",
    "    else:\n",
    "        return -1\n",
    "    \n",
    "def email_p_transform(x):\n",
    "    if x in top_twenty_email_p:\n",
    "        return x\n",
    "    elif (pd.isnull(x) == True):\n",
    "        return 'Missing'\n",
    "    else:\n",
    "        return 'Other'\n",
    "    \n",
    "def email_r_transform(x):\n",
    "    if x in top_twenty_email_r:\n",
    "        return x\n",
    "    elif (pd.isnull(x) == True):\n",
    "        return 'Missing'\n",
    "    else:\n",
    "        return 'Other'"
   ]
  },
  {
   "cell_type": "code",
   "execution_count": 109,
   "id": "e34b866e",
   "metadata": {},
   "outputs": [],
   "source": [
    "# print(min(train_df['TransactionDT']))\n",
    "train_df['TransactionDT'] = train_df['TransactionDT'] - min(train_df['TransactionDT'])\n",
    "train_df['TransactionDayOfWeek'] = train_df['TransactionDT'].apply(convert_day_of_week)\n",
    "train_df['TransactionHour'] = train_df['TransactionDT'].apply(convert_hour)\n",
    "\n",
    "# Transaction Amount (Log)\n",
    "train_df['TransactionAmt_log'] = train_df['TransactionAmt'].apply(lambda x: np.log(x))\n",
    "\n",
    "#addr1, addr2\n",
    "top_ten_addr1 = list(train_df['addr1'].value_counts().index)[:100] #top ten regions\n",
    "top_ten_addr2 = list(train_df['addr2'].value_counts().index)[:100] #top ten countries\n",
    "train_df['addr1_new'] = train_df['addr1'].apply(addr1_transform)\n",
    "train_df['addr2_new'] = train_df['addr2'].apply(addr2_transform)\n",
    "\n",
    "#Email_Domain\n",
    "top_twenty_email_p = list(train_df['P_emaildomain'].value_counts().index)[:50] #top ten regions\n",
    "top_twenty_email_r = list(train_df['R_emaildomain'].value_counts().index)[:50] #top ten countries\n",
    "train_df['P_emaildomain'].value_counts()\n",
    "train_df['P_emaildomain_new'] = train_df['P_emaildomain'].apply(email_p_transform)\n",
    "train_df['R_emaildomain_new'] = train_df['R_emaildomain'].apply(email_r_transform)"
   ]
  },
  {
   "cell_type": "code",
   "execution_count": 110,
   "id": "44391187",
   "metadata": {},
   "outputs": [],
   "source": [
    "#device info\n",
    "def device_info_transform(x):\n",
    "    if x in top_device_info:\n",
    "        return x\n",
    "    elif (pd.isnull(x) == True):\n",
    "        return 'Missing'\n",
    "    else:\n",
    "        return 'Other'\n",
    "    \n",
    "top_device_info = list(train_df['DeviceInfo'].value_counts().index)[:100] #top device info\n",
    "train_df['DeviceInfo_new'] = train_df['DeviceInfo'].apply(device_info_transform)\n",
    "\n",
    "id_lst = ['id_01', 'id_03', 'id_04', 'id_05', 'id_06', 'id_09', 'id_10', 'id_11', 'id_13', 'id_14', \n",
    "               'id_17', 'id_19', 'id_20', 'id_30', 'id_31', 'id_33']\n",
    "\n",
    "new_id_lst = [i + '_new' for i in id_lst]\n",
    "\n",
    "top_i_lst = []\n",
    "\n",
    "def transform_i(x):\n",
    "    if x in top_i:\n",
    "        return str(x)\n",
    "    elif (pd.isnull(x) == True):\n",
    "        return 'Missing'\n",
    "    else:\n",
    "        return 'Other'\n",
    "        \n",
    "for i in id_lst:\n",
    "    new_col = i + '_new'\n",
    "    top_i = list(train_df[i].value_counts().index)[:12]\n",
    "    top_i_lst.append(top_i)\n",
    "    train_df[new_col] = train_df[i].apply(transform_i)   "
   ]
  },
  {
   "cell_type": "code",
   "execution_count": 111,
   "id": "c3a7e2e0",
   "metadata": {},
   "outputs": [],
   "source": [
    "for i in id_lst:\n",
    "    new_col = i + '_new'\n",
    "    top_i = list(train_df[i].value_counts().index)[:12]\n",
    "    top_i_lst.append(top_i)\n",
    "    train_df[new_col] = train_df[i].apply(transform_i)"
   ]
  },
  {
   "cell_type": "code",
   "execution_count": 112,
   "id": "45d3e76b",
   "metadata": {},
   "outputs": [
    {
     "data": {
      "text/html": [
       "<div>\n",
       "<style scoped>\n",
       "    .dataframe tbody tr th:only-of-type {\n",
       "        vertical-align: middle;\n",
       "    }\n",
       "\n",
       "    .dataframe tbody tr th {\n",
       "        vertical-align: top;\n",
       "    }\n",
       "\n",
       "    .dataframe thead th {\n",
       "        text-align: right;\n",
       "    }\n",
       "</style>\n",
       "<table border=\"1\" class=\"dataframe\">\n",
       "  <thead>\n",
       "    <tr style=\"text-align: right;\">\n",
       "      <th></th>\n",
       "      <th>V1</th>\n",
       "      <th>V2</th>\n",
       "      <th>V3</th>\n",
       "      <th>V4</th>\n",
       "      <th>V5</th>\n",
       "      <th>V6</th>\n",
       "      <th>V7</th>\n",
       "      <th>V8</th>\n",
       "      <th>V9</th>\n",
       "      <th>V10</th>\n",
       "      <th>...</th>\n",
       "      <th>V330</th>\n",
       "      <th>V331</th>\n",
       "      <th>V332</th>\n",
       "      <th>V333</th>\n",
       "      <th>V334</th>\n",
       "      <th>V335</th>\n",
       "      <th>V336</th>\n",
       "      <th>V337</th>\n",
       "      <th>V338</th>\n",
       "      <th>V339</th>\n",
       "    </tr>\n",
       "  </thead>\n",
       "  <tbody>\n",
       "    <tr>\n",
       "      <th>233585</th>\n",
       "      <td>NaN</td>\n",
       "      <td>NaN</td>\n",
       "      <td>NaN</td>\n",
       "      <td>NaN</td>\n",
       "      <td>NaN</td>\n",
       "      <td>NaN</td>\n",
       "      <td>NaN</td>\n",
       "      <td>NaN</td>\n",
       "      <td>NaN</td>\n",
       "      <td>NaN</td>\n",
       "      <td>...</td>\n",
       "      <td>0.0</td>\n",
       "      <td>0.0</td>\n",
       "      <td>0.0</td>\n",
       "      <td>0.0</td>\n",
       "      <td>0.0</td>\n",
       "      <td>0.0</td>\n",
       "      <td>0.0</td>\n",
       "      <td>0.0</td>\n",
       "      <td>0.0</td>\n",
       "      <td>0.0</td>\n",
       "    </tr>\n",
       "    <tr>\n",
       "      <th>387051</th>\n",
       "      <td>1.0</td>\n",
       "      <td>1.0</td>\n",
       "      <td>1.0</td>\n",
       "      <td>2.0</td>\n",
       "      <td>3.0</td>\n",
       "      <td>1.0</td>\n",
       "      <td>1.0</td>\n",
       "      <td>2.0</td>\n",
       "      <td>2.0</td>\n",
       "      <td>0.0</td>\n",
       "      <td>...</td>\n",
       "      <td>NaN</td>\n",
       "      <td>NaN</td>\n",
       "      <td>NaN</td>\n",
       "      <td>NaN</td>\n",
       "      <td>NaN</td>\n",
       "      <td>NaN</td>\n",
       "      <td>NaN</td>\n",
       "      <td>NaN</td>\n",
       "      <td>NaN</td>\n",
       "      <td>NaN</td>\n",
       "    </tr>\n",
       "    <tr>\n",
       "      <th>339977</th>\n",
       "      <td>1.0</td>\n",
       "      <td>1.0</td>\n",
       "      <td>1.0</td>\n",
       "      <td>0.0</td>\n",
       "      <td>1.0</td>\n",
       "      <td>1.0</td>\n",
       "      <td>1.0</td>\n",
       "      <td>1.0</td>\n",
       "      <td>1.0</td>\n",
       "      <td>0.0</td>\n",
       "      <td>...</td>\n",
       "      <td>NaN</td>\n",
       "      <td>NaN</td>\n",
       "      <td>NaN</td>\n",
       "      <td>NaN</td>\n",
       "      <td>NaN</td>\n",
       "      <td>NaN</td>\n",
       "      <td>NaN</td>\n",
       "      <td>NaN</td>\n",
       "      <td>NaN</td>\n",
       "      <td>NaN</td>\n",
       "    </tr>\n",
       "    <tr>\n",
       "      <th>155352</th>\n",
       "      <td>NaN</td>\n",
       "      <td>NaN</td>\n",
       "      <td>NaN</td>\n",
       "      <td>NaN</td>\n",
       "      <td>NaN</td>\n",
       "      <td>NaN</td>\n",
       "      <td>NaN</td>\n",
       "      <td>NaN</td>\n",
       "      <td>NaN</td>\n",
       "      <td>NaN</td>\n",
       "      <td>...</td>\n",
       "      <td>NaN</td>\n",
       "      <td>NaN</td>\n",
       "      <td>NaN</td>\n",
       "      <td>NaN</td>\n",
       "      <td>NaN</td>\n",
       "      <td>NaN</td>\n",
       "      <td>NaN</td>\n",
       "      <td>NaN</td>\n",
       "      <td>NaN</td>\n",
       "      <td>NaN</td>\n",
       "    </tr>\n",
       "    <tr>\n",
       "      <th>199559</th>\n",
       "      <td>NaN</td>\n",
       "      <td>NaN</td>\n",
       "      <td>NaN</td>\n",
       "      <td>NaN</td>\n",
       "      <td>NaN</td>\n",
       "      <td>NaN</td>\n",
       "      <td>NaN</td>\n",
       "      <td>NaN</td>\n",
       "      <td>NaN</td>\n",
       "      <td>NaN</td>\n",
       "      <td>...</td>\n",
       "      <td>0.0</td>\n",
       "      <td>0.0</td>\n",
       "      <td>0.0</td>\n",
       "      <td>0.0</td>\n",
       "      <td>0.0</td>\n",
       "      <td>0.0</td>\n",
       "      <td>0.0</td>\n",
       "      <td>0.0</td>\n",
       "      <td>0.0</td>\n",
       "      <td>0.0</td>\n",
       "    </tr>\n",
       "  </tbody>\n",
       "</table>\n",
       "<p>5 rows × 339 columns</p>\n",
       "</div>"
      ],
      "text/plain": [
       "         V1   V2   V3   V4   V5   V6   V7   V8   V9  V10  ...  V330  V331  \\\n",
       "233585  NaN  NaN  NaN  NaN  NaN  NaN  NaN  NaN  NaN  NaN  ...   0.0   0.0   \n",
       "387051  1.0  1.0  1.0  2.0  3.0  1.0  1.0  2.0  2.0  0.0  ...   NaN   NaN   \n",
       "339977  1.0  1.0  1.0  0.0  1.0  1.0  1.0  1.0  1.0  0.0  ...   NaN   NaN   \n",
       "155352  NaN  NaN  NaN  NaN  NaN  NaN  NaN  NaN  NaN  NaN  ...   NaN   NaN   \n",
       "199559  NaN  NaN  NaN  NaN  NaN  NaN  NaN  NaN  NaN  NaN  ...   0.0   0.0   \n",
       "\n",
       "        V332  V333  V334  V335  V336  V337  V338  V339  \n",
       "233585   0.0   0.0   0.0   0.0   0.0   0.0   0.0   0.0  \n",
       "387051   NaN   NaN   NaN   NaN   NaN   NaN   NaN   NaN  \n",
       "339977   NaN   NaN   NaN   NaN   NaN   NaN   NaN   NaN  \n",
       "155352   NaN   NaN   NaN   NaN   NaN   NaN   NaN   NaN  \n",
       "199559   0.0   0.0   0.0   0.0   0.0   0.0   0.0   0.0  \n",
       "\n",
       "[5 rows x 339 columns]"
      ]
     },
     "execution_count": 112,
     "metadata": {},
     "output_type": "execute_result"
    }
   ],
   "source": [
    "##V\n",
    "# Groupby missingness\n",
    "# Groupby correlation\n",
    "# Keep the column with the most unique values\n",
    "v_df = train_df.iloc[:, 95:434]\n",
    "v_df.head()"
   ]
  },
  {
   "cell_type": "code",
   "execution_count": 113,
   "id": "411e337c",
   "metadata": {},
   "outputs": [],
   "source": [
    "v_miss_df = pd.DataFrame(v_df.isnull().mean())\n",
    "v_miss_df['col'] = v_miss_df.index\n",
    "group_by_miss_perc = {}\n",
    "miss_perc = list(v_miss_df[0])\n",
    "miss_col = list(v_miss_df['col'])\n",
    "\n",
    "for i in range(len(miss_perc)):\n",
    "    if miss_perc[i] not in group_by_miss_perc.keys():\n",
    "        group_by_miss_perc[miss_perc[i]] = [v_miss_df['col'][i]]\n",
    "    else:\n",
    "        group_by_miss_perc[miss_perc[i]].append(v_miss_df['col'][i])\n",
    "        \n",
    "miss_keys = list(group_by_miss_perc.keys())\n",
    "final_col_v = []\n",
    "for i in range(len(miss_keys)):\n",
    "    corr = train_df[group_by_miss_perc[miss_keys[i]]].corr()\n",
    "    group = []\n",
    "    \n",
    "    for i in corr.columns:\n",
    "        sub_group = [i]\n",
    "        for j in corr.columns:\n",
    "            if (corr[i][j] > 0.7) and (corr[i][j] < 1):\n",
    "                sub_group.append(j)\n",
    "        group.append(sub_group)\n",
    "    \n",
    "    for i in group:\n",
    "        i.sort()\n",
    "    final_group = []\n",
    "    \n",
    "    for i in group:\n",
    "        if i not in final_group:\n",
    "            final_group.append(i)\n",
    "            \n",
    "    for i in final_group:\n",
    "        if len(i) != 1:\n",
    "            temp = {}\n",
    "            for j in i:\n",
    "                temp[j] = train_df[j].nunique()\n",
    "            sorted_temp = sorted(temp.items(), key=lambda item: item[1])\n",
    "            final_col_v.append(sorted_temp[-1][0])\n",
    "        else:\n",
    "            final_col_v.append(i[0])"
   ]
  },
  {
   "cell_type": "code",
   "execution_count": 114,
   "id": "578e406f",
   "metadata": {},
   "outputs": [],
   "source": [
    "final_col_v = list(set(final_col_v))\n",
    "final_col_v.sort()"
   ]
  },
  {
   "cell_type": "code",
   "execution_count": 115,
   "id": "8a937d8e",
   "metadata": {},
   "outputs": [],
   "source": [
    "# list for one-hot\n",
    "one_hot_lst = ['DeviceType', 'id_12', 'id_15', 'id_16', 'id_23', 'id_27', 'id_28', 'id_29', 'id_32', 'id_34', \n",
    "               'id_35', 'id_34', 'id_35', 'id_36', 'id_37', 'id_38', 'TransactionDayOfWeek', 'TransactionHour',\n",
    "                'ProductCD', 'card4', 'card6', 'addr1_new', 'addr2_new', 'P_emaildomain_new', 'R_emaildomain_new',\n",
    "               'DeviceInfo_new', 'M1', 'M2', 'M3', 'M4', 'M5', 'M6', 'M7', 'M8', 'M9'] + new_id_lst\n",
    "\n",
    "num_list = ['C1', 'C2', 'C3', 'C4', 'C5', 'C6', 'C7', 'C8', 'C9', 'C10', 'C11', 'C12', 'C13', 'C14',\n",
    "        'dist1', 'dist2', 'TransactionAmt_log'] + final_col_v\n",
    "\n",
    "to_ohe = train_df[one_hot_lst]\n",
    "ohe = OneHotEncoder(handle_unknown='ignore')\n",
    "ohe.fit(to_ohe)\n",
    "ohe_features = ohe.transform(to_ohe)\n",
    "cates = pd.DataFrame(ohe_features.toarray())\n",
    "# v_data = train_df.iloc[:, 95:434].fillna(0).to_numpy()"
   ]
  },
  {
   "cell_type": "code",
   "execution_count": 116,
   "id": "b757bde6",
   "metadata": {},
   "outputs": [
    {
     "data": {
      "text/plain": [
       "(41326, 684)"
      ]
     },
     "execution_count": 116,
     "metadata": {},
     "output_type": "execute_result"
    }
   ],
   "source": [
    "cates.shape"
   ]
  },
  {
   "cell_type": "code",
   "execution_count": 117,
   "id": "610bd3b3",
   "metadata": {},
   "outputs": [],
   "source": [
    "nums_part = train_df[num_list].reset_index(drop=True)"
   ]
  },
  {
   "cell_type": "code",
   "execution_count": 118,
   "id": "a5955149",
   "metadata": {},
   "outputs": [],
   "source": [
    "X = pd.concat([nums_part, cates], axis=1)\n",
    "y = train_df['isFraud']\n",
    "X.columns = [x for x in range(len(X.columns.tolist()))]"
   ]
  },
  {
   "cell_type": "markdown",
   "id": "c2548b93",
   "metadata": {},
   "source": [
    "### Train Test Split"
   ]
  },
  {
   "cell_type": "code",
   "execution_count": 119,
   "id": "9c33e1cc",
   "metadata": {},
   "outputs": [],
   "source": [
    "#Raw Ratio\n",
    "X_train, X_test, y_train, y_test = train_test_split(X, y, stratify=y, random_state=590540)"
   ]
  },
  {
   "cell_type": "code",
   "execution_count": 120,
   "id": "ab0a4599",
   "metadata": {},
   "outputs": [
    {
     "data": {
      "text/html": [
       "<div>\n",
       "<style scoped>\n",
       "    .dataframe tbody tr th:only-of-type {\n",
       "        vertical-align: middle;\n",
       "    }\n",
       "\n",
       "    .dataframe tbody tr th {\n",
       "        vertical-align: top;\n",
       "    }\n",
       "\n",
       "    .dataframe thead th {\n",
       "        text-align: right;\n",
       "    }\n",
       "</style>\n",
       "<table border=\"1\" class=\"dataframe\">\n",
       "  <thead>\n",
       "    <tr style=\"text-align: right;\">\n",
       "      <th></th>\n",
       "      <th>0</th>\n",
       "      <th>1</th>\n",
       "      <th>2</th>\n",
       "      <th>3</th>\n",
       "      <th>4</th>\n",
       "      <th>5</th>\n",
       "      <th>6</th>\n",
       "      <th>7</th>\n",
       "      <th>8</th>\n",
       "      <th>9</th>\n",
       "      <th>...</th>\n",
       "      <th>823</th>\n",
       "      <th>824</th>\n",
       "      <th>825</th>\n",
       "      <th>826</th>\n",
       "      <th>827</th>\n",
       "      <th>828</th>\n",
       "      <th>829</th>\n",
       "      <th>830</th>\n",
       "      <th>831</th>\n",
       "      <th>832</th>\n",
       "    </tr>\n",
       "  </thead>\n",
       "  <tbody>\n",
       "    <tr>\n",
       "      <th>8324</th>\n",
       "      <td>1.0</td>\n",
       "      <td>1.0</td>\n",
       "      <td>0.0</td>\n",
       "      <td>1.0</td>\n",
       "      <td>0.0</td>\n",
       "      <td>1.0</td>\n",
       "      <td>0.0</td>\n",
       "      <td>1.0</td>\n",
       "      <td>0.0</td>\n",
       "      <td>1.0</td>\n",
       "      <td>...</td>\n",
       "      <td>0.0</td>\n",
       "      <td>0.0</td>\n",
       "      <td>0.0</td>\n",
       "      <td>0.0</td>\n",
       "      <td>0.0</td>\n",
       "      <td>0.0</td>\n",
       "      <td>0.0</td>\n",
       "      <td>0.0</td>\n",
       "      <td>0.0</td>\n",
       "      <td>0.0</td>\n",
       "    </tr>\n",
       "    <tr>\n",
       "      <th>37607</th>\n",
       "      <td>4.0</td>\n",
       "      <td>5.0</td>\n",
       "      <td>0.0</td>\n",
       "      <td>0.0</td>\n",
       "      <td>1.0</td>\n",
       "      <td>2.0</td>\n",
       "      <td>0.0</td>\n",
       "      <td>0.0</td>\n",
       "      <td>1.0</td>\n",
       "      <td>0.0</td>\n",
       "      <td>...</td>\n",
       "      <td>0.0</td>\n",
       "      <td>0.0</td>\n",
       "      <td>0.0</td>\n",
       "      <td>0.0</td>\n",
       "      <td>0.0</td>\n",
       "      <td>0.0</td>\n",
       "      <td>0.0</td>\n",
       "      <td>0.0</td>\n",
       "      <td>1.0</td>\n",
       "      <td>0.0</td>\n",
       "    </tr>\n",
       "    <tr>\n",
       "      <th>26269</th>\n",
       "      <td>5.0</td>\n",
       "      <td>5.0</td>\n",
       "      <td>0.0</td>\n",
       "      <td>0.0</td>\n",
       "      <td>2.0</td>\n",
       "      <td>4.0</td>\n",
       "      <td>0.0</td>\n",
       "      <td>0.0</td>\n",
       "      <td>5.0</td>\n",
       "      <td>0.0</td>\n",
       "      <td>...</td>\n",
       "      <td>0.0</td>\n",
       "      <td>0.0</td>\n",
       "      <td>0.0</td>\n",
       "      <td>0.0</td>\n",
       "      <td>0.0</td>\n",
       "      <td>0.0</td>\n",
       "      <td>0.0</td>\n",
       "      <td>0.0</td>\n",
       "      <td>1.0</td>\n",
       "      <td>0.0</td>\n",
       "    </tr>\n",
       "    <tr>\n",
       "      <th>15960</th>\n",
       "      <td>340.0</td>\n",
       "      <td>639.0</td>\n",
       "      <td>0.0</td>\n",
       "      <td>92.0</td>\n",
       "      <td>0.0</td>\n",
       "      <td>92.0</td>\n",
       "      <td>92.0</td>\n",
       "      <td>121.0</td>\n",
       "      <td>0.0</td>\n",
       "      <td>112.0</td>\n",
       "      <td>...</td>\n",
       "      <td>0.0</td>\n",
       "      <td>0.0</td>\n",
       "      <td>0.0</td>\n",
       "      <td>0.0</td>\n",
       "      <td>0.0</td>\n",
       "      <td>0.0</td>\n",
       "      <td>0.0</td>\n",
       "      <td>0.0</td>\n",
       "      <td>1.0</td>\n",
       "      <td>0.0</td>\n",
       "    </tr>\n",
       "    <tr>\n",
       "      <th>31265</th>\n",
       "      <td>4.0</td>\n",
       "      <td>4.0</td>\n",
       "      <td>0.0</td>\n",
       "      <td>0.0</td>\n",
       "      <td>3.0</td>\n",
       "      <td>3.0</td>\n",
       "      <td>0.0</td>\n",
       "      <td>0.0</td>\n",
       "      <td>5.0</td>\n",
       "      <td>0.0</td>\n",
       "      <td>...</td>\n",
       "      <td>0.0</td>\n",
       "      <td>0.0</td>\n",
       "      <td>0.0</td>\n",
       "      <td>0.0</td>\n",
       "      <td>0.0</td>\n",
       "      <td>0.0</td>\n",
       "      <td>0.0</td>\n",
       "      <td>0.0</td>\n",
       "      <td>1.0</td>\n",
       "      <td>0.0</td>\n",
       "    </tr>\n",
       "  </tbody>\n",
       "</table>\n",
       "<p>5 rows × 833 columns</p>\n",
       "</div>"
      ],
      "text/plain": [
       "         0      1    2     3    4     5     6      7    8      9    ...  823  \\\n",
       "8324     1.0    1.0  0.0   1.0  0.0   1.0   0.0    1.0  0.0    1.0  ...  0.0   \n",
       "37607    4.0    5.0  0.0   0.0  1.0   2.0   0.0    0.0  1.0    0.0  ...  0.0   \n",
       "26269    5.0    5.0  0.0   0.0  2.0   4.0   0.0    0.0  5.0    0.0  ...  0.0   \n",
       "15960  340.0  639.0  0.0  92.0  0.0  92.0  92.0  121.0  0.0  112.0  ...  0.0   \n",
       "31265    4.0    4.0  0.0   0.0  3.0   3.0   0.0    0.0  5.0    0.0  ...  0.0   \n",
       "\n",
       "       824  825  826  827  828  829  830  831  832  \n",
       "8324   0.0  0.0  0.0  0.0  0.0  0.0  0.0  0.0  0.0  \n",
       "37607  0.0  0.0  0.0  0.0  0.0  0.0  0.0  1.0  0.0  \n",
       "26269  0.0  0.0  0.0  0.0  0.0  0.0  0.0  1.0  0.0  \n",
       "15960  0.0  0.0  0.0  0.0  0.0  0.0  0.0  1.0  0.0  \n",
       "31265  0.0  0.0  0.0  0.0  0.0  0.0  0.0  1.0  0.0  \n",
       "\n",
       "[5 rows x 833 columns]"
      ]
     },
     "execution_count": 120,
     "metadata": {},
     "output_type": "execute_result"
    }
   ],
   "source": [
    "X_train.head()"
   ]
  },
  {
   "cell_type": "code",
   "execution_count": 121,
   "id": "380a6051",
   "metadata": {},
   "outputs": [],
   "source": [
    "X_train = X_train.fillna(0).replace(-np.Inf, -10).replace(np.Inf, 10)\n",
    "X_test = X_test.fillna(0).replace(-np.Inf, -10).replace(np.Inf, 10)"
   ]
  },
  {
   "cell_type": "code",
   "execution_count": 122,
   "id": "c31f45c4",
   "metadata": {},
   "outputs": [
    {
     "name": "stdout",
     "output_type": "stream",
     "text": [
      "0\n"
     ]
    }
   ],
   "source": [
    "ds = X_train.isin([np.inf, -np.inf])\n",
    "print(ds.sum().sum())"
   ]
  },
  {
   "cell_type": "code",
   "execution_count": 123,
   "id": "bdbf77d4",
   "metadata": {},
   "outputs": [
    {
     "data": {
      "text/html": [
       "<div>\n",
       "<style scoped>\n",
       "    .dataframe tbody tr th:only-of-type {\n",
       "        vertical-align: middle;\n",
       "    }\n",
       "\n",
       "    .dataframe tbody tr th {\n",
       "        vertical-align: top;\n",
       "    }\n",
       "\n",
       "    .dataframe thead th {\n",
       "        text-align: right;\n",
       "    }\n",
       "</style>\n",
       "<table border=\"1\" class=\"dataframe\">\n",
       "  <thead>\n",
       "    <tr style=\"text-align: right;\">\n",
       "      <th></th>\n",
       "      <th>0</th>\n",
       "      <th>1</th>\n",
       "      <th>2</th>\n",
       "      <th>3</th>\n",
       "      <th>4</th>\n",
       "      <th>5</th>\n",
       "      <th>6</th>\n",
       "      <th>7</th>\n",
       "      <th>8</th>\n",
       "      <th>9</th>\n",
       "      <th>...</th>\n",
       "      <th>823</th>\n",
       "      <th>824</th>\n",
       "      <th>825</th>\n",
       "      <th>826</th>\n",
       "      <th>827</th>\n",
       "      <th>828</th>\n",
       "      <th>829</th>\n",
       "      <th>830</th>\n",
       "      <th>831</th>\n",
       "      <th>832</th>\n",
       "    </tr>\n",
       "  </thead>\n",
       "  <tbody>\n",
       "    <tr>\n",
       "      <th>8324</th>\n",
       "      <td>1.0</td>\n",
       "      <td>1.0</td>\n",
       "      <td>0.0</td>\n",
       "      <td>1.0</td>\n",
       "      <td>0.0</td>\n",
       "      <td>1.0</td>\n",
       "      <td>0.0</td>\n",
       "      <td>1.0</td>\n",
       "      <td>0.0</td>\n",
       "      <td>1.0</td>\n",
       "      <td>...</td>\n",
       "      <td>0.0</td>\n",
       "      <td>0.0</td>\n",
       "      <td>0.0</td>\n",
       "      <td>0.0</td>\n",
       "      <td>0.0</td>\n",
       "      <td>0.0</td>\n",
       "      <td>0.0</td>\n",
       "      <td>0.0</td>\n",
       "      <td>0.0</td>\n",
       "      <td>0.0</td>\n",
       "    </tr>\n",
       "    <tr>\n",
       "      <th>37607</th>\n",
       "      <td>4.0</td>\n",
       "      <td>5.0</td>\n",
       "      <td>0.0</td>\n",
       "      <td>0.0</td>\n",
       "      <td>1.0</td>\n",
       "      <td>2.0</td>\n",
       "      <td>0.0</td>\n",
       "      <td>0.0</td>\n",
       "      <td>1.0</td>\n",
       "      <td>0.0</td>\n",
       "      <td>...</td>\n",
       "      <td>0.0</td>\n",
       "      <td>0.0</td>\n",
       "      <td>0.0</td>\n",
       "      <td>0.0</td>\n",
       "      <td>0.0</td>\n",
       "      <td>0.0</td>\n",
       "      <td>0.0</td>\n",
       "      <td>0.0</td>\n",
       "      <td>1.0</td>\n",
       "      <td>0.0</td>\n",
       "    </tr>\n",
       "    <tr>\n",
       "      <th>26269</th>\n",
       "      <td>5.0</td>\n",
       "      <td>5.0</td>\n",
       "      <td>0.0</td>\n",
       "      <td>0.0</td>\n",
       "      <td>2.0</td>\n",
       "      <td>4.0</td>\n",
       "      <td>0.0</td>\n",
       "      <td>0.0</td>\n",
       "      <td>5.0</td>\n",
       "      <td>0.0</td>\n",
       "      <td>...</td>\n",
       "      <td>0.0</td>\n",
       "      <td>0.0</td>\n",
       "      <td>0.0</td>\n",
       "      <td>0.0</td>\n",
       "      <td>0.0</td>\n",
       "      <td>0.0</td>\n",
       "      <td>0.0</td>\n",
       "      <td>0.0</td>\n",
       "      <td>1.0</td>\n",
       "      <td>0.0</td>\n",
       "    </tr>\n",
       "    <tr>\n",
       "      <th>15960</th>\n",
       "      <td>340.0</td>\n",
       "      <td>639.0</td>\n",
       "      <td>0.0</td>\n",
       "      <td>92.0</td>\n",
       "      <td>0.0</td>\n",
       "      <td>92.0</td>\n",
       "      <td>92.0</td>\n",
       "      <td>121.0</td>\n",
       "      <td>0.0</td>\n",
       "      <td>112.0</td>\n",
       "      <td>...</td>\n",
       "      <td>0.0</td>\n",
       "      <td>0.0</td>\n",
       "      <td>0.0</td>\n",
       "      <td>0.0</td>\n",
       "      <td>0.0</td>\n",
       "      <td>0.0</td>\n",
       "      <td>0.0</td>\n",
       "      <td>0.0</td>\n",
       "      <td>1.0</td>\n",
       "      <td>0.0</td>\n",
       "    </tr>\n",
       "    <tr>\n",
       "      <th>31265</th>\n",
       "      <td>4.0</td>\n",
       "      <td>4.0</td>\n",
       "      <td>0.0</td>\n",
       "      <td>0.0</td>\n",
       "      <td>3.0</td>\n",
       "      <td>3.0</td>\n",
       "      <td>0.0</td>\n",
       "      <td>0.0</td>\n",
       "      <td>5.0</td>\n",
       "      <td>0.0</td>\n",
       "      <td>...</td>\n",
       "      <td>0.0</td>\n",
       "      <td>0.0</td>\n",
       "      <td>0.0</td>\n",
       "      <td>0.0</td>\n",
       "      <td>0.0</td>\n",
       "      <td>0.0</td>\n",
       "      <td>0.0</td>\n",
       "      <td>0.0</td>\n",
       "      <td>1.0</td>\n",
       "      <td>0.0</td>\n",
       "    </tr>\n",
       "  </tbody>\n",
       "</table>\n",
       "<p>5 rows × 833 columns</p>\n",
       "</div>"
      ],
      "text/plain": [
       "         0      1    2     3    4     5     6      7    8      9    ...  823  \\\n",
       "8324     1.0    1.0  0.0   1.0  0.0   1.0   0.0    1.0  0.0    1.0  ...  0.0   \n",
       "37607    4.0    5.0  0.0   0.0  1.0   2.0   0.0    0.0  1.0    0.0  ...  0.0   \n",
       "26269    5.0    5.0  0.0   0.0  2.0   4.0   0.0    0.0  5.0    0.0  ...  0.0   \n",
       "15960  340.0  639.0  0.0  92.0  0.0  92.0  92.0  121.0  0.0  112.0  ...  0.0   \n",
       "31265    4.0    4.0  0.0   0.0  3.0   3.0   0.0    0.0  5.0    0.0  ...  0.0   \n",
       "\n",
       "       824  825  826  827  828  829  830  831  832  \n",
       "8324   0.0  0.0  0.0  0.0  0.0  0.0  0.0  0.0  0.0  \n",
       "37607  0.0  0.0  0.0  0.0  0.0  0.0  0.0  1.0  0.0  \n",
       "26269  0.0  0.0  0.0  0.0  0.0  0.0  0.0  1.0  0.0  \n",
       "15960  0.0  0.0  0.0  0.0  0.0  0.0  0.0  1.0  0.0  \n",
       "31265  0.0  0.0  0.0  0.0  0.0  0.0  0.0  1.0  0.0  \n",
       "\n",
       "[5 rows x 833 columns]"
      ]
     },
     "execution_count": 123,
     "metadata": {},
     "output_type": "execute_result"
    }
   ],
   "source": [
    "X_train.head()"
   ]
  },
  {
   "cell_type": "markdown",
   "id": "c1e98cc8",
   "metadata": {},
   "source": [
    "### Random Forest - Raw Ratio"
   ]
  },
  {
   "cell_type": "code",
   "execution_count": 124,
   "id": "0aa67894",
   "metadata": {},
   "outputs": [],
   "source": [
    "#Raw Ratio\n",
    "from sklearn.ensemble import RandomForestClassifier\n",
    "def RandomForest_result(X_train, X_test, y_train, y_test):\n",
    "    clf = RandomForestClassifier(random_state=42)\n",
    "    clf.fit(X_train, y_train)\n",
    "    preds = clf.predict(X_test)\n",
    "    accuracy = accuracy_score(y_test, preds)\n",
    "    y_pred = clf.predict(X_test)\n",
    "    fpr, tpr, _ = metrics.roc_curve(y_test, y_pred)\n",
    "    auc_score = metrics.auc(fpr, tpr)\n",
    "    return clf, accuracy, X_test, y_test, y_pred, fpr, tpr, auc_score"
   ]
  },
  {
   "cell_type": "code",
   "execution_count": 125,
   "id": "3bcee4f5",
   "metadata": {},
   "outputs": [],
   "source": [
    "rf_clf, accuracy, X_test, y_test, y_pred, fpr, tpr, auc_score = RandomForest_result(X_train, X_test, y_train, y_test)"
   ]
  },
  {
   "cell_type": "code",
   "execution_count": 126,
   "id": "278aa5d7",
   "metadata": {},
   "outputs": [
    {
     "data": {
      "text/plain": [
       "0.8516260162601627"
      ]
     },
     "execution_count": 126,
     "metadata": {},
     "output_type": "execute_result"
    }
   ],
   "source": [
    "accuracy_score(y_test, y_pred)"
   ]
  },
  {
   "cell_type": "code",
   "execution_count": 127,
   "id": "357211bd",
   "metadata": {},
   "outputs": [
    {
     "data": {
      "text/plain": [
       "(0.871244635193133, 0.8252032520325203, 0.8475991649269311, None)"
      ]
     },
     "execution_count": 127,
     "metadata": {},
     "output_type": "execute_result"
    }
   ],
   "source": [
    "precision_recall_fscore_support(y_test, y_pred, average='binary')"
   ]
  },
  {
   "cell_type": "code",
   "execution_count": 128,
   "id": "4ede78f6",
   "metadata": {},
   "outputs": [
    {
     "data": {
      "image/png": "[encoded data removed]",
      "text/plain": [
       "<Figure size 432x288 with 2 Axes>"
      ]
     },
     "metadata": {},
     "output_type": "display_data"
    },
    {
     "data": {
      "image/png": "[encoded data removed]",
      "text/plain": [
       "<Figure size 432x288 with 1 Axes>"
      ]
     },
     "metadata": {},
     "output_type": "display_data"
    }
   ],
   "source": [
    "plot_confusion_matrix(rf_clf, X_test, y_test)\n",
    "plt.show()\n",
    "plt.clf()\n",
    "plt.title('ROC Curve')\n",
    "plt.plot(fpr, tpr, label='AUC = {:.2f}'.format(auc_score))\n",
    "plt.plot([0,1],[0,1],'r--')\n",
    "plt.xlim([-0.1,1.1])\n",
    "plt.ylim([-0.1,1.1])\n",
    "plt.ylabel('True Positive Rate')\n",
    "plt.xlabel('False Positive Rate')\n",
    "plt.legend(loc='lower right')\n",
    "plt.show()"
   ]
  },
  {
   "cell_type": "code",
   "execution_count": 129,
   "id": "bbf0fd79",
   "metadata": {},
   "outputs": [],
   "source": [
    "#Raw Ratio\n",
    "def naive_bayes_result(X_train, X_test, y_train, y_test):\n",
    "    clf = BernoulliNB()\n",
    "    clf.fit(X_train, y_train)\n",
    "    preds = clf.predict(X_test)\n",
    "    accuracy = accuracy_score(y_test, preds)\n",
    "    y_pred = clf.predict(X_test)\n",
    "    fpr, tpr, _ = metrics.roc_curve(y_test, y_pred)\n",
    "    auc_score = metrics.auc(fpr, tpr)\n",
    "    return clf, accuracy, X_test, y_test, y_pred, fpr, tpr, auc_score"
   ]
  },
  {
   "cell_type": "code",
   "execution_count": 130,
   "id": "459f2b13",
   "metadata": {},
   "outputs": [],
   "source": [
    "nb_clf, accuracy, X_test, y_test, y_pred, fpr, tpr, auc_score = naive_bayes_result(X_train, X_test, y_train, y_test)"
   ]
  },
  {
   "cell_type": "code",
   "execution_count": 131,
   "id": "eed5ddd2",
   "metadata": {},
   "outputs": [
    {
     "data": {
      "text/plain": [
       "0.6525358110723964"
      ]
     },
     "execution_count": 131,
     "metadata": {},
     "output_type": "execute_result"
    }
   ],
   "source": [
    "accuracy_score(y_test, y_pred)"
   ]
  },
  {
   "cell_type": "code",
   "execution_count": 132,
   "id": "099037ff",
   "metadata": {},
   "outputs": [
    {
     "data": {
      "text/plain": [
       "(0.6942800788954635, 0.5451025938830817, 0.6107135111689438, None)"
      ]
     },
     "execution_count": 132,
     "metadata": {},
     "output_type": "execute_result"
    }
   ],
   "source": [
    "precision_recall_fscore_support(y_test, y_pred, average='binary')"
   ]
  },
  {
   "cell_type": "code",
   "execution_count": 133,
   "id": "54517b8e",
   "metadata": {},
   "outputs": [
    {
     "data": {
      "image/png": "[encoded data removed]",
      "text/plain": [
       "<Figure size 432x288 with 2 Axes>"
      ]
     },
     "metadata": {},
     "output_type": "display_data"
    },
    {
     "data": {
      "image/png": "[encoded data removed]",
      "text/plain": [
       "<Figure size 432x288 with 1 Axes>"
      ]
     },
     "metadata": {},
     "output_type": "display_data"
    }
   ],
   "source": [
    "plot_confusion_matrix(nb_clf, X_test, y_test)\n",
    "plt.show()\n",
    "plt.clf()\n",
    "plt.title('ROC Curve')\n",
    "plt.plot(fpr, tpr, label='AUC = {:.2f}'.format(auc_score))\n",
    "plt.plot([0,1],[0,1],'r--')\n",
    "plt.xlim([-0.1,1.1])\n",
    "plt.ylim([-0.1,1.1])\n",
    "plt.ylabel('True Positive Rate')\n",
    "plt.xlabel('False Positive Rate')\n",
    "plt.legend(loc='lower right')\n",
    "plt.show()"
   ]
  },
  {
   "cell_type": "code",
   "execution_count": 134,
   "id": "c56fe67c",
   "metadata": {},
   "outputs": [],
   "source": [
    "from sklearn.tree import DecisionTreeClassifier"
   ]
  },
  {
   "cell_type": "code",
   "execution_count": 135,
   "id": "60d93404",
   "metadata": {},
   "outputs": [],
   "source": [
    "def decision_tree_result(X_train, X_test, y_train, y_test):\n",
    "    clf = DecisionTreeClassifier(random_state=42)\n",
    "    clf.fit(X_train, y_train)\n",
    "    preds = clf.predict(X_test)\n",
    "    accuracy = accuracy_score(y_test, preds)\n",
    "    y_pred = clf.predict(X_test)\n",
    "    fpr, tpr, _ = metrics.roc_curve(y_test, y_pred)\n",
    "    auc_score = metrics.auc(fpr, tpr)\n",
    "    return clf, accuracy, X_test, y_test, y_pred, fpr, tpr, auc_score"
   ]
  },
  {
   "cell_type": "code",
   "execution_count": 136,
   "id": "52e42bad",
   "metadata": {},
   "outputs": [],
   "source": [
    "dt_clf, accuracy, X_test, y_test, y_pred, fpr, tpr, auc_score = decision_tree_result(X_train, X_test, y_train, y_test)"
   ]
  },
  {
   "cell_type": "code",
   "execution_count": 137,
   "id": "e14b5b28",
   "metadata": {},
   "outputs": [
    {
     "data": {
      "image/png": "[encoded data removed]",
      "text/plain": [
       "<Figure size 432x288 with 2 Axes>"
      ]
     },
     "metadata": {},
     "output_type": "display_data"
    },
    {
     "data": {
      "image/png": "[encoded data removed]",
      "text/plain": [
       "<Figure size 432x288 with 1 Axes>"
      ]
     },
     "metadata": {},
     "output_type": "display_data"
    }
   ],
   "source": [
    "plot_confusion_matrix(dt_clf, X_test, y_test)\n",
    "plt.show()\n",
    "plt.clf()\n",
    "plt.title('ROC Curve')\n",
    "plt.plot(fpr, tpr, label='AUC = {:.2f}'.format(auc_score))\n",
    "plt.plot([0,1],[0,1],'r--')\n",
    "plt.xlim([-0.1,1.1])\n",
    "plt.ylim([-0.1,1.1])\n",
    "plt.ylabel('True Positive Rate')\n",
    "plt.xlabel('False Positive Rate')\n",
    "plt.legend(loc='lower right')\n",
    "plt.show()"
   ]
  },
  {
   "cell_type": "code",
   "execution_count": null,
   "id": "ab4503ce",
   "metadata": {},
   "outputs": [],
   "source": []
  },
  {
   "cell_type": "code",
   "execution_count": null,
   "id": "759e2f0f",
   "metadata": {},
   "outputs": [],
   "source": []
  }
 ],
 "metadata": {
  "kernelspec": {
   "display_name": "Python 3",
   "language": "python",
   "name": "python3"
  },
  "language_info": {
   "codemirror_mode": {
    "name": "ipython",
    "version": 3
   },
   "file_extension": ".py",
   "mimetype": "text/x-python",
   "name": "python",
   "nbconvert_exporter": "python",
   "pygments_lexer": "ipython3",
   "version": "3.8.8"
  }
 },
 "nbformat": 4,
 "nbformat_minor": 5
}
